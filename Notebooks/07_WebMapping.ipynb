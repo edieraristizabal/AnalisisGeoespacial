{
 "cells": [
  {
   "cell_type": "markdown",
   "metadata": {},
   "source": [
    "**CURSO**: Análisis Geoespacial, Departamento de Geociencias y Medio Ambiente, Universidad Nacional de Colombia - sede Medellín <br/>\n",
    "**Profesor**: Edier Aristizábal (evaristizabalg@unal.edu.co) <br />\n",
    "**Classroom code**: [32cjlau] <br />\n",
    "**Credits**: The content of this notebook is taken from several sources, mainly fromcreated an alternative world map and reflected what will happen to the situation in the country if certain parameters change. Since we do data visualization, and not geopolitics, we refrained from evaluating this data in any way. We employed a t-SNE machine learning algorithm to process data, and you are left to play with the unemployment rate, health care costs and other characteristics.. Every effort has been made to trace copyright holders of the materials used in this book. The author apologies for any unintentional omissions and would be pleased to add an acknowledgment in future editions."
   ]
  },
  {
   "cell_type": "markdown",
   "metadata": {},
   "source": [
    "# Web spatial tools"
   ]
  },
  {
   "cell_type": "markdown",
   "metadata": {},
   "source": [
    "## Landsat on AWS\n",
    "Landsat 8 data is available for anyone to use via [Amazon S3](https://docs.opendata.aws/landsat-pds/readme.html). All Landsat 8 scenes are available from the start of imagery capture. All new Landsat 8 scenes are made available each day, often within hours of production."
   ]
  },
  {
   "cell_type": "markdown",
   "metadata": {},
   "source": [
    "## [EOX COG-Explorer](https://eox.at/2018/05/explore-landsat-8-scenes-with-cog-explorer/)\n",
    "This app allows you to visually inspect individual Cloud Optimized GeoTIFFs (COGs) like scenes from the Landsat-8 archive on [Amazon S3](https://geotiffjs.github.io/cog-explorer/#long=16.370&lat=48.210&zoom=5&scene=&bands=&pipeline=)"
   ]
  },
  {
   "cell_type": "markdown",
   "metadata": {},
   "source": [
    "## [Land viewer](https://eos.com/products/landviewer/)\n",
    "Land Viewer is a satellite observation imagery tool that allows for on-the-fly searching, processing and getting valuable insights from satellite data to tackle real business issues"
   ]
  },
  {
   "cell_type": "markdown",
   "metadata": {},
   "source": [
    "## Spectator\n",
    "[Spectator Earth](https://app.spectator.earth/) offers a Web app providing Earth Observation imagery, mainly from open data satellites like the Sentinel and the Landsat family\n"
   ]
  },
  {
   "cell_type": "markdown",
   "metadata": {},
   "source": [
    "## t-SNE\n",
    "It has been created an alternative world map and reflected what will happen to the situation in the country if certain parameters change. Since we do data visualization, and not geopolitics, we refrained from evaluating this data in any way. They employed a [t-SNE](https://projects.interacta.io/country-tsne/) machine learning algorithm to process data, and you are left to play with the unemployment rate, health care costs and other characteristics."
   ]
  },
  {
   "cell_type": "markdown",
   "metadata": {},
   "source": [
    "## Carto\n",
    "[Carto](https://carto.com/) is a Software as a Service (SaaS) cloud computing platform that provides GIS, web mapping, and spatial data science tools."
   ]
  },
  {
   "cell_type": "markdown",
   "metadata": {},
   "source": [
    "## Kepler\n",
    "[Kepler](https://kepler.gl/) is a high-performance web-based tool created by the Uber's Visualization Team for visual exploration of large scale geospatial datasets. It is built on top of deck.gl – another framework for visual exploratory data analysis of large datasets by Uber.\n",
    "\n",
    "kepler.gl can also be used inside our [Jupyter notebook](https://www.analyticsvidhya.com/blog/2020/06/learn-visualize-geospatial-data-jupyter-kepler/#:~:text=Kepler.gl%20is%20a%20high,of%20large%20datasets%20by%20Uber.), which makes it a handy tool for everyone in the data science community.\n",
    "\n",
    "<center><img src=\"http://1fykyq3mdn5r21tpna3wkdyi-wpengine.netdna-ssl.com/wp-content/uploads/2018/05/image13.gif\" width=\"1000\"></center>"
   ]
  },
  {
   "cell_type": "markdown",
   "metadata": {},
   "source": [
    "## SOAR\n",
    "[SOAR](https://soar.earth/) is a digital atlas of all the world's maps and imagery. Examples of content include —\n",
    "satellite imagery, aerial imagery, remote sensing data, drone images, orthomosaics, community content, and more.\n",
    "\n",
    "<center><img src=\"https://www.cursosteledeteccion.com/wp-content/uploads/2021/12/2-768x356.png\" width=\"1000\"></center>\n",
    "‍"
   ]
  },
  {
   "cell_type": "markdown",
   "metadata": {},
   "source": [
    "### [ESRI](https://www.esri.com/en-us/arcgis/products/unlock-earths-secrets#apps)\n",
    "\n",
    "The [ArcGIS Imagery Book](https://learn.arcgis.com/en/arcgis-imagery-book/)\n",
    "\n",
    "[ESRI](https://www.arcgis.com/apps/MinimalGallery/index.html?appid=cff0dd2940984c209d29d6ed3c41b99a) Imagery apps\n",
    "\n",
    "[ArcGIS Living Atlas of tha World](https://livingatlas.arcgis.com/en/browse/#d=1&cont=true&categories=Imagery%3A1111)\n",
    "\n",
    "[Satellite map](https://geoxc-apps2.bd.esri.com/Visualization/sat2/index.html)\n",
    "\n",
    "[Imagery with metadata](https://www.arcgis.com/apps/mapviewer/index.html?webmap=c03a526d94704bfb839445e80de95495)"
   ]
  },
  {
   "cell_type": "markdown",
   "metadata": {},
   "source": [
    "[Streamlit](https://streamlit.geemap.org/) for geospatial applications. This multi-page web app developed by [Quisheng Wu](https://blog.streamlit.io/tag/tutorials/) demonstrates various interactive web apps created using streamlit and open-source mapping libraries, such as leafmap, geemap, pydeck, and kepler.gl."
   ]
  },
  {
   "cell_type": "markdown",
   "metadata": {},
   "source": [
    "## [Sentinelhub Playground](https://apps.sentinel-hub.com/sentinel-playground/?source=L8)\n",
    "The Sentinel Hub Playground provides a web GIS to explore satellite imagery from platorms Sentinel-2, Landsat-8 and MODIS. Sentinel and Landsat data can be displayed in a variety of predefined band combinations and spectral indices as they are generated on the fly. Costom band combination can be created by the user."
   ]
  },
  {
   "cell_type": "markdown",
   "metadata": {},
   "source": [
    "## [Geocoder](https://geocode.localfocus.nl/)\n",
    "Geocoding is the process of transforming a description of a location—such as a pair of coordinates, an address, or a name of a place—to a location on the earth's surface. You can geocode by entering one location description at a time or by providing many of them at once in a table. The resulting locations are output as geographic features with attributes, which can be used for mapping or spatial analysis."
   ]
  },
  {
   "cell_type": "markdown",
   "metadata": {},
   "source": [
    "## RAWGraphs\n",
    "[RAWGraphs](https://app.rawgraphs.io/) is an open source data visualization framework built with the goal of making the visual representation of complex data easy for everyone."
   ]
  },
  {
   "cell_type": "markdown",
   "metadata": {},
   "source": [
    "## Palladio\n",
    "[Palladio](http://hdlab.stanford.edu/palladio/) is a widely-used web-based tool for visualizing data using networks and maps"
   ]
  },
  {
   "cell_type": "markdown",
   "metadata": {},
   "source": [
    "\n",
    "## Eastraea - EarthAI\n",
    "[EarthAI](https://astraea.earth/platform/) is an integrated imagery analysis platform designed to enable users to discover, access, and process Earth observation data\n"
   ]
  }
 ],
 "metadata": {
  "kernelspec": {
   "display_name": "Python 3 (ipykernel)",
   "language": "python",
   "name": "python3"
  },
  "language_info": {
   "codemirror_mode": {
    "name": "ipython",
    "version": 3
   },
   "file_extension": ".py",
   "mimetype": "text/x-python",
   "name": "python",
   "nbconvert_exporter": "python",
   "pygments_lexer": "ipython3",
   "version": "3.9.7"
  }
 },
 "nbformat": 4,
 "nbformat_minor": 4
}
