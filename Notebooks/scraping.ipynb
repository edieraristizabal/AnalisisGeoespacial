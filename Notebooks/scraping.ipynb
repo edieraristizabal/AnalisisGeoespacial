{
 "cells": [
  {
   "cell_type": "code",
   "execution_count": null,
   "id": "1805acad-06c4-430d-af67-dd3f420b113d",
   "metadata": {},
   "outputs": [],
   "source": [
    "!pip install scrapeasy"
   ]
  },
  {
   "cell_type": "code",
   "execution_count": null,
   "id": "bb318035-13e6-4342-89e6-1b99158881da",
   "metadata": {},
   "outputs": [],
   "source": [
    "!pip install lxml"
   ]
  },
  {
   "cell_type": "code",
   "execution_count": 2,
   "id": "4eac5db1-8a63-4dbf-9219-e79285bf9a59",
   "metadata": {},
   "outputs": [],
   "source": [
    "from scrapeasy import Website, Page"
   ]
  },
  {
   "cell_type": "code",
   "execution_count": 3,
   "id": "68f69b7f-8e0f-4b80-8f7d-0fff49e6dc84",
   "metadata": {},
   "outputs": [],
   "source": [
    "web = Website(\"https://edieraristizabal.github.io/Sensores-Remotos/\")"
   ]
  },
  {
   "cell_type": "code",
   "execution_count": 4,
   "id": "0797261e-c3fe-48a1-a12e-614c4dc38920",
   "metadata": {},
   "outputs": [],
   "source": [
    "links = web.getSubpagesLinks()"
   ]
  },
  {
   "cell_type": "code",
   "execution_count": 5,
   "id": "eea60086-fa7f-43fa-81ac-f0a4448fb310",
   "metadata": {},
   "outputs": [
    {
     "name": "stdout",
     "output_type": "stream",
     "text": [
      "edieraristizabal.github.io/Sensores-Remotos/\n",
      "edieraristizabal.github.io/\n"
     ]
    }
   ],
   "source": [
    "for i in range(0,len(links)):\n",
    "    print(links[i])"
   ]
  },
  {
   "cell_type": "code",
   "execution_count": 6,
   "id": "d5ad6272-b795-45ce-b80e-f2c9886a690a",
   "metadata": {},
   "outputs": [],
   "source": [
    "links2 = web.getSubpagesLinks()"
   ]
  },
  {
   "cell_type": "code",
   "execution_count": 8,
   "id": "fe878e16-a940-4376-8395-f70d0b889b9b",
   "metadata": {},
   "outputs": [
    {
     "name": "stdout",
     "output_type": "stream",
     "text": [
      "edieraristizabal.github.io/Sensores-Remotos/\n",
      "edieraristizabal.github.io/\n"
     ]
    }
   ],
   "source": [
    "for i in range(0,len(links2)):\n",
    "    print(links2[i])"
   ]
  },
  {
   "cell_type": "code",
   "execution_count": 9,
   "id": "e8f29c80-146e-4409-b4da-73c0c014092c",
   "metadata": {},
   "outputs": [],
   "source": [
    "images = web.getImages()"
   ]
  },
  {
   "cell_type": "code",
   "execution_count": null,
   "id": "dc98ca50-cbdb-4bba-af9e-c7276658bc53",
   "metadata": {},
   "outputs": [],
   "source": [
    "for i in range(0,len(images)):\n",
    "    print(images[i])"
   ]
  },
  {
   "cell_type": "code",
   "execution_count": 12,
   "id": "3d8e2ab0-0dd2-414e-9fb1-c62803353103",
   "metadata": {},
   "outputs": [],
   "source": [
    "web.download(\"img\", \"fahrschule/images\")"
   ]
  },
  {
   "cell_type": "code",
   "execution_count": 13,
   "id": "2493a8b6-052d-418e-ab48-3c46a8dcaa7d",
   "metadata": {},
   "outputs": [],
   "source": [
    "domains = web.getLinks(intern=False, extern=False, domain=True)"
   ]
  },
  {
   "cell_type": "code",
   "execution_count": 14,
   "id": "6f2065f3-a9d7-4a2d-a901-6f34f6e3a5f4",
   "metadata": {},
   "outputs": [
    {
     "name": "stdout",
     "output_type": "stream",
     "text": [
      "['twitter.com', 'githubstatus.com', 'help.github.com']\n"
     ]
    }
   ],
   "source": [
    "print(domains)"
   ]
  },
  {
   "cell_type": "code",
   "execution_count": 19,
   "id": "b10ca50f-840b-455c-9077-0aa5dc251bc1",
   "metadata": {},
   "outputs": [],
   "source": [
    "w3 = Page(\"https://www.w3schools.com\")"
   ]
  },
  {
   "cell_type": "code",
   "execution_count": 16,
   "id": "c9ddb77b-45e9-42ef-9795-e18eeaa1e58e",
   "metadata": {},
   "outputs": [
    {
     "name": "stdout",
     "output_type": "stream",
     "text": [
      "Invalid URL: w3schools.com/tryit.asp?filename=tryhtml5_video\n"
     ]
    }
   ],
   "source": [
    "w3.download(\"video\", \"w3/videos\")"
   ]
  },
  {
   "cell_type": "code",
   "execution_count": 20,
   "id": "b47e7dd7-f8ec-4a2e-9fc5-0ddf6210b94b",
   "metadata": {},
   "outputs": [],
   "source": [
    "video_links = w3.getVideos()"
   ]
  },
  {
   "cell_type": "code",
   "execution_count": 21,
   "id": "a9d10871-1b20-49da-8835-08e58cb59bc2",
   "metadata": {},
   "outputs": [
    {
     "name": "stdout",
     "output_type": "stream",
     "text": [
      "[]\n"
     ]
    }
   ],
   "source": [
    "print(video_links)"
   ]
  },
  {
   "cell_type": "code",
   "execution_count": 22,
   "id": "46e8a5c0-2e93-4300-b709-9610b68e3959",
   "metadata": {},
   "outputs": [],
   "source": [
    "calendar_links = Page(\"https://tikocash.com\").get(\"php\")"
   ]
  },
  {
   "cell_type": "code",
   "execution_count": 29,
   "id": "f027cece-b65f-4daf-97f9-da9b65c86198",
   "metadata": {},
   "outputs": [],
   "source": [
    "Page(\"https://www.w3schools.com\").download(\"pdf\", \"pdf-files\")"
   ]
  },
  {
   "cell_type": "code",
   "execution_count": 30,
   "id": "2721cfd1-c70d-4cf7-9ede-93200d3472ed",
   "metadata": {},
   "outputs": [],
   "source": [
    "calendar_links = Page(\"https://edieraristizabal.github.io/Sensores-Remotos/\").get(\"pdf\")"
   ]
  },
  {
   "cell_type": "raw",
   "id": "cd01f839-3b28-453f-bcda-736db1ed9c19",
   "metadata": {},
   "source": [
    "print(calendar_links)"
   ]
  },
  {
   "cell_type": "code",
   "execution_count": 31,
   "id": "e7105d2c-db3f-4032-a8fd-d32de48f0bb9",
   "metadata": {},
   "outputs": [],
   "source": [
    "from urllib.request import urlopen"
   ]
  },
  {
   "cell_type": "code",
   "execution_count": 32,
   "id": "49bcdd60-b1bd-42f2-be19-273ffba7499c",
   "metadata": {},
   "outputs": [],
   "source": [
    "page = urlopen(\"https://edieraristizabal.github.io/Sensores-Remotos/\")"
   ]
  },
  {
   "cell_type": "code",
   "execution_count": 33,
   "id": "0f9a5c60-827a-47b2-a0e9-ba2e5a7d2ddf",
   "metadata": {},
   "outputs": [
    {
     "data": {
      "text/plain": [
       "<http.client.HTTPResponse at 0x2156ac614c0>"
      ]
     },
     "execution_count": 33,
     "metadata": {},
     "output_type": "execute_result"
    }
   ],
   "source": [
    "page"
   ]
  },
  {
   "cell_type": "code",
   "execution_count": 34,
   "id": "ba2afcc1-fa1f-49ef-a630-ce5e5c3884cd",
   "metadata": {},
   "outputs": [],
   "source": [
    "html_bytes = page.read()"
   ]
  },
  {
   "cell_type": "code",
   "execution_count": 35,
   "id": "9a683ce8-7466-420c-8734-9526c1e5e32b",
   "metadata": {},
   "outputs": [],
   "source": [
    "html = html_bytes.decode(\"utf-8\")"
   ]
  },
  {
   "cell_type": "code",
   "execution_count": 54,
   "id": "492001a8-efcb-4a8f-b9da-b86d52a0ace3",
   "metadata": {},
   "outputs": [
    {
     "name": "stdout",
     "output_type": "stream",
     "text": [
      "<!DOCTYPE html>\n",
      "<html lang=\"en-US\">\n",
      "  <head>\n",
      "    <meta charset=\"UTF-8\">\n",
      "    <meta http-equiv=\"X-UA-Compatible\" content=\"IE=edge\">\n",
      "    <meta name=\"viewport\" content=\"width=device-width, initial-scale=1\">\n",
      "\n",
      "<!-- Begin Jekyll SEO tag v2.8.0 -->\n",
      "<title>Sensores Remotos | Sensores-Remotos</title>\n",
      "<meta name=\"generator\" content=\"Jekyll v3.9.0\" />\n",
      "<meta property=\"og:title\" content=\"Sensores Remotos\" />\n",
      "<meta property=\"og:locale\" content=\"en_US\" />\n",
      "<meta name=\"description\" content=\"Curso de la carrera Ingeniería geológica del Departamento de Geociencias y Medio Ambiente de la Universidad Nacional de Colombia, sede Medellín\" />\n",
      "<meta property=\"og:description\" content=\"Curso de la carrera Ingeniería geológica del Departamento de Geociencias y Medio Ambiente de la Universidad Nacional de Colombia, sede Medellín\" />\n",
      "<link rel=\"canonical\" href=\"https://edieraristizabal.github.io/Sensores-Remotos/\" />\n",
      "<meta property=\"og:url\" content=\"https://edieraristizabal.github.io/Sensores-Remotos/\" />\n",
      "<meta property=\"og:site_name\" content=\"Sensores-Remotos\" />\n",
      "<meta property=\"og:type\" content=\"website\" />\n",
      "<meta name=\"twitter:card\" content=\"summary\" />\n",
      "<meta property=\"twitter:title\" content=\"Sensores Remotos\" />\n",
      "<script type=\"application/ld+json\">\n",
      "{\"@context\":\"https://schema.org\",\"@type\":\"WebSite\",\"description\":\"Curso de la carrera Ingeniería geológica del Departamento de Geociencias y Medio Ambiente de la Universidad Nacional de Colombia, sede Medellín\",\"headline\":\"Sensores Remotos\",\"name\":\"Sensores-Remotos\",\"url\":\"https://edieraristizabal.github.io/Sensores-Remotos/\"}</script>\n",
      "<!-- End Jekyll SEO tag -->\n",
      "\n",
      "    <link rel=\"stylesheet\" href=\"/Sensores-Remotos/assets/css/style.css?v=e4e17050012ce4edae5908dbdcc2af4cebf338ba\">\n",
      "    <!--[if lt IE 9]>\n",
      "    <script src=\"https://cdnjs.cloudflare.com/ajax/libs/html5shiv/3.7.3/html5shiv.min.js\"></script>\n",
      "    <![endif]-->\n",
      "    <!-- start custom head snippets, customize with your own _includes/head-custom.html file -->\n",
      "\n",
      "<!-- Setup Google Analytics -->\n",
      "\n",
      "\n",
      "\n",
      "<!-- You can set your favicon here -->\n",
      "<!-- link rel=\"shortcut icon\" type=\"image/x-icon\" href=\"/Sensores-Remotos/favicon.ico\" -->\n",
      "\n",
      "<!-- end custom head snippets -->\n",
      "\n",
      "  </head>\n",
      "  <body>\n",
      "    <div class=\"wrapper\">\n",
      "      <header>\n",
      "        <h1><a href=\"https://edieraristizabal.github.io/Sensores-Remotos/\">Sensores-Remotos</a></h1>\n",
      "\n",
      "        \n",
      "\n",
      "        <p>Curso de la carrera Ingeniería geológica del Departamento de Geociencias y Medio Ambiente de la Universidad Nacional de Colombia, sede Medellín</p>\n",
      "\n",
      "        \n",
      "        <p class=\"view\"><a href=\"https://github.com/edieraristizabal/Sensores-Remotos\">View the Project on GitHub <small>edieraristizabal/Sensores-Remotos</small></a></p>\n",
      "        \n",
      "\n",
      "        \n",
      "\n",
      "        \n",
      "      </header>\n",
      "      <section>\n",
      "\n",
      "      <h1 id=\"sensores-remotos\">Sensores Remotos</h1>\n",
      "\n",
      "<p>El curso de <strong>Sensores Remotos</strong> está orientado para estudiantes de ciencias de la tierra con el objeto de aprender a utilizar las herramientas de teledetección en geología y geomorfología. Inicialmente comprende la teoría general de sensores remotos y procesamiento de imágenes. Para posteriormente enfocarse en el uso de fotografías aéreas y adquirir de forma adecuada la técnica de la fotointerpretación a través del uso de fotografías aéreas.</p>\n",
      "\n",
      "<p>Este curso no corresponde a un curso a profundidad y detalle del uso de imágenes de satélite para diferentes disciplinas. De forma similar, la técnica de fotointerpretación, aunque es similar para otros temas, su aplicación en este curso se enfoca exclusivamente para la fotointerpretación geológica, es decir diferenciar unidades litológicas, al igual que fotointerpretación geomorfológica, es decir formas y procesos morfodinámicos.</p>\n",
      "\n",
      "<p>El procesamiento de imágenes es una herramienta ampliamente utilizada actualmente, y la fotointerpretación es una técnica que se conserva por su ayuda en diferentes campos, y que no puede suplir ningún otro sensor remoto. Adquirir estas herramientas seguramente le ampliará sus perspectivas profesionales en el campo de la geología aplicada a la ingeniería.</p>\n",
      "\n",
      "<p>El curso se compone de dos grandes bloques . El primero de ellos contiene la teoría de introducción a los <a href=\"/Sensores-Remotos/html/01_SensoresRemoto.html\">sensores remotos</a> y técnicas de tratamiento de imágenes de satelite. Y el segundo bloque corresponde específicamente al manejo de fotografias aereas y <a href=\"/Sensores-Remotos/html/02_Fotointerpretacion.html\">fotointerpertacíon</a>.</p>\n",
      "\n",
      "<h2 id=\"horario-del-curso\">Horario del curso</h2>\n",
      "<p>Martes &amp; Jueves 8:00 - 10:00 a.m.</p>\n",
      "\n",
      "<h3 id=\"aula\">Aula:</h3>\n",
      "<p>M3-232</p>\n",
      "\n",
      "<h2 id=\"programa-del-curso\">Programa del curso</h2>\n",
      "<p><a href=\"/Sensores-Remotos/Programa_SensoresRemoto.pdf\">Ir al programa…</a></p>\n",
      "\n",
      "<h2 id=\"contenido-del-curso\">Contenido del curso</h2>\n",
      "\n",
      "<ol>\n",
      "  <li>Introducción al curso</li>\n",
      "</ol>\n",
      "\n",
      "<h3 id=\"tratamiento-de-imágenes-de-satélite\">Tratamiento de imágenes de satélite</h3>\n",
      "<p><a href=\"/Sensores-Remotos/html/01_SensoresRemoto.html\">Ir a presentación…</a></p>\n",
      "\n",
      "<ol>\n",
      "  <li>\n",
      "    <p>Taller 0 Evaluación visión estereoscópica</p>\n",
      "  </li>\n",
      "  <li>Radiación electromagnética\n",
      "    <ul>\n",
      "      <li>Energía electromagnética y espectro</li>\n",
      "      <li>Interacciones con la atmosfera</li>\n",
      "      <li>Absorción y transmisión</li>\n",
      "      <li>Dispersión</li>\n",
      "      <li>Interacción con la superficie</li>\n",
      "      <li>Cálculo de la reflectividad</li>\n",
      "      <li>Reflectancia vs. Radiancia</li>\n",
      "      <li>Curvas de reflectividad</li>\n",
      "      <li>Características de las imágenes</li>\n",
      "    </ul>\n",
      "  </li>\n",
      "  <li>\n",
      "    <p><a href=\"/Sensores-Remotos/TALLERES/Taller_Descarga.pdf\">Taller 1</a> Descarga y manejo de imágenes de satélite</p>\n",
      "  </li>\n",
      "  <li>Radiación electromagnética\n",
      "    <ul>\n",
      "      <li>Interacción con el objeto</li>\n",
      "      <li>Reflexión</li>\n",
      "      <li>Emisión</li>\n",
      "      <li>Dispersión</li>\n",
      "      <li>Transmisión</li>\n",
      "      <li>Curvas de reflectancia espectral</li>\n",
      "      <li>Superficie Especular y Lambertiana</li>\n",
      "      <li>Firma espectral (agua, suelo, vegetación)</li>\n",
      "    </ul>\n",
      "  </li>\n",
      "  <li>\n",
      "    <p><a href=\"/Sensores-Remotos/TALLERES/Taller_ProgramasEspaciales.pdf\">Taller 2</a> Programas Espaciales</p>\n",
      "  </li>\n",
      "  <li>Sensores: plataformas y detectores\n",
      "    <ul>\n",
      "      <li>Plataformas aéreas y espaciales (Airborne vs spaceborne)</li>\n",
      "      <li>Orbitas</li>\n",
      "      <li>Tipo de sensores</li>\n",
      "      <li>Sensores Pasivos</li>\n",
      "      <li>Explorador de barrido</li>\n",
      "      <li>Explorador de empuje</li>\n",
      "    </ul>\n",
      "  </li>\n",
      "  <li>\n",
      "    <p><a href=\"/Sensores-Remotos/TALLERES/Taller_Indices.pdf\">Taller 3</a> Cálculo de índices</p>\n",
      "  </li>\n",
      "  <li>Sensores: resolución\n",
      "    <ul>\n",
      "      <li>Las resoluciones</li>\n",
      "      <li>IFOV</li>\n",
      "      <li>Resolución radiométrica</li>\n",
      "      <li>Resolución espectral</li>\n",
      "      <li>Resolución geométrica</li>\n",
      "      <li>Resolución temporal</li>\n",
      "      <li>Resolución vs Escala</li>\n",
      "      <li>Sensores Activos</li>\n",
      "    </ul>\n",
      "  </li>\n",
      "  <li>\n",
      "    <p><a href=\"/Sensores-Remotos/TALLERES/Taller_Clasificacion.pdf\">Taller 4</a> Clasificación de imágenes de satélite</p>\n",
      "  </li>\n",
      "  <li>Tratamiento de imágenes\n",
      "    <ul>\n",
      "      <li>Error y calibración radiométrico</li>\n",
      "      <li>Error y calibración geométrica</li>\n",
      "      <li>Procesamiento de imágenes</li>\n",
      "      <li>Transformación de imágenes</li>\n",
      "      <li>Clasificación de imágenes</li>\n",
      "      <li>Matriz de confusión</li>\n",
      "      <li>Precisión</li>\n",
      "      <li>Precisión del usuario</li>\n",
      "      <li>Precisión del productor</li>\n",
      "      <li>Coeficiente de Kappa Cohen</li>\n",
      "    </ul>\n",
      "  </li>\n",
      "  <li>\n",
      "    <p><a href=\"/Sensores-Remotos/TALLERES/Taller_PostProcesamiento.pdf\">Taller 5</a> Pros-procesamiento de clasificación</p>\n",
      "  </li>\n",
      "  <li>Sensores de antena\n",
      "    <ul>\n",
      "      <li>Radar</li>\n",
      "      <li>SAR</li>\n",
      "      <li>InSAR</li>\n",
      "      <li>DInSAR</li>\n",
      "      <li>LIDAR</li>\n",
      "    </ul>\n",
      "  </li>\n",
      "  <li><a href=\"/Sensores-Remotos/TALLERES/Taller_Radar.pdf\">Taller 6</a> Imágenes de radar</li>\n",
      "</ol>\n",
      "\n",
      "<h3 id=\"fotointerpretación\">Fotointerpretación</h3>\n",
      "<p><a href=\"/Sensores-Remotos/html/02_Fotointerpretacion.html\">Ir a presentación…</a></p>\n",
      "\n",
      "<ol>\n",
      "  <li>Introducción a la fotografía aérea\n",
      "    <ul>\n",
      "      <li>Historia</li>\n",
      "      <li>Tipos de fotointerpretación</li>\n",
      "      <li>Estereoscopio</li>\n",
      "      <li>Visión estereoscópica</li>\n",
      "      <li>El efecto GESTAL y la percepción</li>\n",
      "    </ul>\n",
      "  </li>\n",
      "  <li>\n",
      "    <p><a href=\"/Sensores-Remotos/TALLERES/Taller_BaseInstrumental.pdf\">Taller 7</a> Base Instrumental</p>\n",
      "  </li>\n",
      "  <li>Fotogrametría\n",
      "    <ul>\n",
      "      <li>Escala</li>\n",
      "      <li>Exageración de la escala</li>\n",
      "      <li>Desplazamiento del relieve</li>\n",
      "      <li>Paralaje absoluto</li>\n",
      "      <li>Paralaje relativo</li>\n",
      "      <li>Medición del relieve</li>\n",
      "    </ul>\n",
      "  </li>\n",
      "  <li>\n",
      "    <p><a href=\"/Sensores-Remotos/TALLERES/Taller_Fotogrametria.pdf\">Taller 8</a> Fotogrametría</p>\n",
      "  </li>\n",
      "  <li>Criterios de Fotointerpretación\n",
      "    <ul>\n",
      "      <li>Técnicas y métodos de fotointerpretación</li>\n",
      "      <li>Principios básicos: tamaño, forma, tono o color, textura, patrón, sombra y asociación</li>\n",
      "      <li>Elementos básicos (laderas), compuestos (drenaje, fallas y lineamientos), e inferidos (erosión, roca parental)</li>\n",
      "    </ul>\n",
      "  </li>\n",
      "  <li>\n",
      "    <p><a href=\"/Sensores-Remotos/TALLERES/Taller_Criterios.pdf\">Taller 9</a> Criterios</p>\n",
      "  </li>\n",
      "  <li>Fotointerpretación del terreno\n",
      "    <ul>\n",
      "      <li>Lectura mapas topográficos</li>\n",
      "      <li>Drenajes</li>\n",
      "      <li>Patrón de drenajes</li>\n",
      "      <li>Paisaje estructural</li>\n",
      "      <li>Procesos morfodinámicos</li>\n",
      "    </ul>\n",
      "  </li>\n",
      "  <li>\n",
      "    <p><a href=\"/TALLERES/Taller_FotointerpretacionGeologica.pdf\">Taller 10</a> Fotointerpretación geológica</p>\n",
      "  </li>\n",
      "  <li>Fotointerpretación geológica\n",
      "    <ul>\n",
      "      <li>Rocas sedimentarias</li>\n",
      "      <li>Rocas Metamórficas</li>\n",
      "      <li>Rocas Igneas</li>\n",
      "    </ul>\n",
      "  </li>\n",
      "  <li><a href=\"/Sensores-Remotos/TALLERES/Taller_Anaglifos.pdf\">Taller 11</a> Fotointerpretación con anaglifos</li>\n",
      "</ol>\n",
      "\n",
      "<h3 id=\"trabajo-de-campo\">Trabajo de campo</h3>\n",
      "<p>Este documento corresponde a la Guía para la preparación, y ejecución a la salida de campo, por lo tanto es indispensable que cada equipo revise con detalle los objetivos y alcances planteados, los materiales necesarios, y los pasos a  desarrollar.</p>\n",
      "\n",
      "<p>El trabajo de campo comprende 5 alcances, 4 de ellso predvios a la salida de campo. Cada uno de ellos se describen a lo largo de la guía con su porcentaje de evaluación respectiva:</p>\n",
      "\n",
      "<ul>\n",
      "  <li>Inventario de imagenes y mapa de líneas de vuelo</li>\n",
      "  <li>Mapa de coberturas del suelo</li>\n",
      "  <li>Mapa fotogeomorfológico y de procesos morfodinámicos</li>\n",
      "  <li>Mapa fotogeológico y de estructuras</li>\n",
      "  <li>Salida de campo</li>\n",
      "</ul>\n",
      "\n",
      "<p><a href=\"/Sensores-Remotos/TALLERES/Taller_TrabajoFinal.pdf\">Guía Trabajo Final</a> Preparación y guía de campo</p>\n",
      "\n",
      "<h2 id=\"evaluación-del-curso\">Evaluación del curso</h2>\n",
      "\n",
      "<h3 id=\"talleres\">Talleres</h3>\n",
      "<p>El curso se evaluará con talleres, todos ellos con un valor del 5% y el trabajo final de la salida de campo con un 50%.\n",
      "En total hay 11 talleres, por lo tanto para calcular el 50% de la nota de los talleres se seleccionan los 10 talleres \n",
      "con la mejor nota.</p>\n",
      "\n",
      "<p>Los talleres deberán cargarse a la plataforma de Google Classroom en\n",
      "formato PDF. El nombre del archivo deberá tener el número del taller y el\n",
      "nombre y apellido del estudiante (Ej. Taller1_EdierAristizabal). En caso de\n",
      "no entregarse de esta forma tendrá un descuento del 1.0 de la nota obtenida.\n",
      "El Taller 1 comprende la descarga de una imagen de Sentinel 2\n",
      "tomada durante el semestre actual. Con dicha imagen se deberá continuar\n",
      "realizando los talleres con imágenes de satélite siguientes. El uso de una\n",
      "imagen diferente para los siguientes talleres implica que sean evaluados sobre\n",
      "una nota máxima de 3.0. La presentación de los talleres tiene un formato\n",
      "libre, el cual exige un trabajo de creatividad, orden y claridad del estudiante,\n",
      "de tal forma que trasmita la información de forma correcta y adecuada al\n",
      "evaluador. Los criterios utilizados para la evaluación y asignación de nota a\n",
      "los talleres son:</p>\n",
      "\n",
      "<ul>\n",
      "  <li><strong>Ejecución</strong>: que el taller se presente completo y desarrolle todas las\n",
      "actividades solicitadas.</li>\n",
      "  <li><strong>Claridad y orden</strong>: que se desarrolle de forma secuencial y clara en\n",
      "términos de la estructura, redacción y figuras o tablas de apoyo.</li>\n",
      "  <li><strong>Conciso</strong>: que pueda transmitir la información suficiente de forma corta\n",
      "y directa.</li>\n",
      "  <li><strong>Desarrollo adecuado</strong>: que el procedimiento, análisis y observaciones\n",
      "realizadas sean correctas de acuerdo al contenido y estado del arte del\n",
      "curso.</li>\n",
      "</ul>\n",
      "\n",
      "\n",
      "\n",
      "      </section>\n",
      "      <footer>\n",
      "        \n",
      "        <p>This project is maintained by <a href=\"https://github.com/edieraristizabal\">edieraristizabal</a></p>\n",
      "        \n",
      "        <p><small>Hosted on GitHub Pages &mdash; Theme by <a href=\"https://github.com/orderedlist\">orderedlist</a></small></p>\n",
      "      </footer>\n",
      "    </div>\n",
      "    <script src=\"/Sensores-Remotos/assets/js/scale.fix.js\"></script>\n",
      "  </body>\n",
      "</html>\n",
      "\n"
     ]
    }
   ],
   "source": [
    "print(html)"
   ]
  },
  {
   "cell_type": "code",
   "execution_count": 44,
   "id": "f90d0a94-88ac-420a-9ca3-b041b34e6b37",
   "metadata": {},
   "outputs": [],
   "source": [
    "from bs4 import BeautifulSoup\n",
    "soup = BeautifulSoup(html, \"html.parser\")"
   ]
  },
  {
   "cell_type": "code",
   "execution_count": null,
   "id": "e1ec55b3-dfb8-4c1b-9ca2-b4626213ba86",
   "metadata": {},
   "outputs": [],
   "source": [
    "print(soup.get_text())"
   ]
  },
  {
   "cell_type": "code",
   "execution_count": 49,
   "id": "07d62163-9707-4230-b92f-0b5140e3d745",
   "metadata": {},
   "outputs": [
    {
     "data": {
      "text/plain": [
       "'Sensores Remotos | Sensores-Remotos'"
      ]
     },
     "execution_count": 49,
     "metadata": {},
     "output_type": "execute_result"
    }
   ],
   "source": [
    "soup.title.string"
   ]
  },
  {
   "cell_type": "code",
   "execution_count": 84,
   "id": "c2479aee-41b7-4240-9869-8a52b55ecff3",
   "metadata": {},
   "outputs": [
    {
     "name": "stdout",
     "output_type": "stream",
     "text": [
      "currentLink /Sensores-Remotos/Programa_SensoresRemoto.pdf\n",
      "currentLink /Sensores-Remotos/TALLERES/Taller_Descarga.pdf\n",
      "currentLink /Sensores-Remotos/TALLERES/Taller_ProgramasEspaciales.pdf\n",
      "currentLink /Sensores-Remotos/TALLERES/Taller_Indices.pdf\n",
      "currentLink /Sensores-Remotos/TALLERES/Taller_Clasificacion.pdf\n",
      "currentLink /Sensores-Remotos/TALLERES/Taller_PostProcesamiento.pdf\n",
      "currentLink /Sensores-Remotos/TALLERES/Taller_Radar.pdf\n",
      "currentLink /Sensores-Remotos/TALLERES/Taller_BaseInstrumental.pdf\n",
      "currentLink /Sensores-Remotos/TALLERES/Taller_Fotogrametria.pdf\n",
      "currentLink /Sensores-Remotos/TALLERES/Taller_Criterios.pdf\n",
      "currentLink /TALLERES/Taller_FotointerpretacionGeologica.pdf\n",
      "currentLink /Sensores-Remotos/TALLERES/Taller_Anaglifos.pdf\n",
      "currentLink /Sensores-Remotos/TALLERES/Taller_TrabajoFinal.pdf\n"
     ]
    }
   ],
   "source": [
    "links=[]\n",
    "for link in soup.find_all('a'):\n",
    "        current_link = link.get('href')\n",
    "        if current_link.endswith('pdf'):\n",
    "                print(\"currentLink\",current_link)\n",
    "                links.append(\"https://edieraristizabal.github.io/\" + current_link)"
   ]
  },
  {
   "cell_type": "code",
   "execution_count": 85,
   "id": "bb7363ad-2d10-474e-9167-82e08a21850a",
   "metadata": {},
   "outputs": [
    {
     "data": {
      "text/plain": [
       "['https://edieraristizabal.github.io//Sensores-Remotos/Programa_SensoresRemoto.pdf',\n",
       " 'https://edieraristizabal.github.io//Sensores-Remotos/TALLERES/Taller_Descarga.pdf',\n",
       " 'https://edieraristizabal.github.io//Sensores-Remotos/TALLERES/Taller_ProgramasEspaciales.pdf',\n",
       " 'https://edieraristizabal.github.io//Sensores-Remotos/TALLERES/Taller_Indices.pdf',\n",
       " 'https://edieraristizabal.github.io//Sensores-Remotos/TALLERES/Taller_Clasificacion.pdf',\n",
       " 'https://edieraristizabal.github.io//Sensores-Remotos/TALLERES/Taller_PostProcesamiento.pdf',\n",
       " 'https://edieraristizabal.github.io//Sensores-Remotos/TALLERES/Taller_Radar.pdf',\n",
       " 'https://edieraristizabal.github.io//Sensores-Remotos/TALLERES/Taller_BaseInstrumental.pdf',\n",
       " 'https://edieraristizabal.github.io//Sensores-Remotos/TALLERES/Taller_Fotogrametria.pdf',\n",
       " 'https://edieraristizabal.github.io//Sensores-Remotos/TALLERES/Taller_Criterios.pdf',\n",
       " 'https://edieraristizabal.github.io//TALLERES/Taller_FotointerpretacionGeologica.pdf',\n",
       " 'https://edieraristizabal.github.io//Sensores-Remotos/TALLERES/Taller_Anaglifos.pdf',\n",
       " 'https://edieraristizabal.github.io//Sensores-Remotos/TALLERES/Taller_TrabajoFinal.pdf']"
      ]
     },
     "execution_count": 85,
     "metadata": {},
     "output_type": "execute_result"
    }
   ],
   "source": [
    "links"
   ]
  },
  {
   "cell_type": "code",
   "execution_count": null,
   "id": "c5799856-b140-4e53-b24d-f7373b6fb5f2",
   "metadata": {},
   "outputs": [],
   "source": [
    "for link in links:\n",
    "    try: \n",
    "        wget.download(link)\n",
    "    except:\n",
    "        print(\" \\n \\n Unable to Download A File \\n\")"
   ]
  },
  {
   "cell_type": "code",
   "execution_count": 93,
   "id": "d17f840b-d6e9-4ccd-94ca-e80ba12a5d95",
   "metadata": {},
   "outputs": [],
   "source": [
    "def check_validity(my_url):\n",
    "    try:\n",
    "        urlopen(my_url)\n",
    "        print(\"Valid URL\")\n",
    "    except IOError:\n",
    "        print (\"Invalid URL\")\n",
    "        sys.exit()\n",
    "\n",
    "\n",
    "def get_pdfs(my_url):\n",
    "    links = []\n",
    "    html = urlopen(my_url).read()\n",
    "    html_page = BeautifulSoup(html, features=\"lxml\") \n",
    "    og_url = html_page.find(\"meta\",  property = \"og:url\")\n",
    "    base = urlparse(my_url)\n",
    "    print(\"base\",base)\n",
    "    for link in html_page.find_all('a'):\n",
    "        current_link = link.get('href')\n",
    "        if current_link.endswith('pdf'):\n",
    "            if og_url:\n",
    "                print(\"currentLink\",current_link)\n",
    "                links.append(og_url[\"content\"] + current_link)\n",
    "            else:\n",
    "                links.append(base.scheme + \"://\" + base.netloc + current_link)\n",
    "\n",
    "    for link in links:\n",
    "        try: \n",
    "            wget.download(link)\n",
    "        except:\n",
    "            print(\" \\n \\n Unable to Download A File \\n\")"
   ]
  },
  {
   "cell_type": "code",
   "execution_count": 91,
   "id": "c4a71f02-9b7e-469a-8234-9c5ffdb9bb75",
   "metadata": {},
   "outputs": [
    {
     "name": "stdout",
     "output_type": "stream",
     "text": [
      "Valid URL\n"
     ]
    }
   ],
   "source": [
    "check_validity(\"https://edieraristizabal.github.io/Sensores-Remotos/\")"
   ]
  },
  {
   "cell_type": "code",
   "execution_count": 99,
   "id": "20d56a93-98c5-4e93-96fa-ca744d7a4858",
   "metadata": {},
   "outputs": [
    {
     "name": "stdout",
     "output_type": "stream",
     "text": [
      "Collecting wget\n",
      "  Downloading wget-3.2.zip (10 kB)\n",
      "Building wheels for collected packages: wget\n",
      "  Building wheel for wget (setup.py): started\n",
      "  Building wheel for wget (setup.py): finished with status 'done'\n",
      "  Created wheel for wget: filename=wget-3.2-py3-none-any.whl size=9675 sha256=efedcd4dbb0928b1039e9c2df9feffa39203a26de3a83e8fdccb326664005dba\n",
      "  Stored in directory: c:\\users\\edier\\appdata\\local\\pip\\cache\\wheels\\04\\5f\\3e\\46cc37c5d698415694d83f607f833f83f0149e49b3af9d0f38\n",
      "Successfully built wget\n",
      "Installing collected packages: wget\n",
      "Successfully installed wget-3.2\n"
     ]
    }
   ],
   "source": [
    "!pip install wget"
   ]
  },
  {
   "cell_type": "code",
   "execution_count": 101,
   "id": "0e0a34b2-5c7c-45d9-bb46-da2b216ce9f6",
   "metadata": {},
   "outputs": [
    {
     "data": {
      "text/plain": [
       "['https://edieraristizabal.github.io//Sensores-Remotos/Programa_SensoresRemoto.pdf',\n",
       " 'https://edieraristizabal.github.io//Sensores-Remotos/TALLERES/Taller_Descarga.pdf',\n",
       " 'https://edieraristizabal.github.io//Sensores-Remotos/TALLERES/Taller_ProgramasEspaciales.pdf',\n",
       " 'https://edieraristizabal.github.io//Sensores-Remotos/TALLERES/Taller_Indices.pdf',\n",
       " 'https://edieraristizabal.github.io//Sensores-Remotos/TALLERES/Taller_Clasificacion.pdf',\n",
       " 'https://edieraristizabal.github.io//Sensores-Remotos/TALLERES/Taller_PostProcesamiento.pdf',\n",
       " 'https://edieraristizabal.github.io//Sensores-Remotos/TALLERES/Taller_Radar.pdf',\n",
       " 'https://edieraristizabal.github.io//Sensores-Remotos/TALLERES/Taller_BaseInstrumental.pdf',\n",
       " 'https://edieraristizabal.github.io//Sensores-Remotos/TALLERES/Taller_Fotogrametria.pdf',\n",
       " 'https://edieraristizabal.github.io//Sensores-Remotos/TALLERES/Taller_Criterios.pdf',\n",
       " 'https://edieraristizabal.github.io//TALLERES/Taller_FotointerpretacionGeologica.pdf',\n",
       " 'https://edieraristizabal.github.io//Sensores-Remotos/TALLERES/Taller_Anaglifos.pdf',\n",
       " 'https://edieraristizabal.github.io//Sensores-Remotos/TALLERES/Taller_TrabajoFinal.pdf']"
      ]
     },
     "execution_count": 101,
     "metadata": {},
     "output_type": "execute_result"
    }
   ],
   "source": [
    "links"
   ]
  },
  {
   "cell_type": "code",
   "execution_count": 107,
   "id": "36ced02f-4d0a-43ea-b6ad-0ab5c5219998",
   "metadata": {},
   "outputs": [
    {
     "name": "stdout",
     "output_type": "stream",
     "text": [
      "100% [............................................................................] 171718 / 171718"
     ]
    },
    {
     "data": {
      "text/plain": [
       "'download.wget'"
      ]
     },
     "execution_count": 107,
     "metadata": {},
     "output_type": "execute_result"
    }
   ],
   "source": [
    "wget.download(\"https://edieraristizabal.github.io//Sensores-Remotos/Programa_SensoresRemoto.pdf\")"
   ]
  },
  {
   "cell_type": "code",
   "execution_count": 100,
   "id": "c53be930-6bd2-4c93-979f-96acee82b415",
   "metadata": {},
   "outputs": [
    {
     "name": "stdout",
     "output_type": "stream",
     "text": [
      "base ParseResult(scheme='https', netloc='edieraristizabal.github.io', path='/Sensores-Remotos/', params='', query='', fragment='')\n",
      "currentLink /Sensores-Remotos/Programa_SensoresRemoto.pdf\n",
      "currentLink /Sensores-Remotos/TALLERES/Taller_Descarga.pdf\n",
      "currentLink /Sensores-Remotos/TALLERES/Taller_ProgramasEspaciales.pdf\n",
      "currentLink /Sensores-Remotos/TALLERES/Taller_Indices.pdf\n",
      "currentLink /Sensores-Remotos/TALLERES/Taller_Clasificacion.pdf\n",
      "currentLink /Sensores-Remotos/TALLERES/Taller_PostProcesamiento.pdf\n",
      "currentLink /Sensores-Remotos/TALLERES/Taller_Radar.pdf\n",
      "currentLink /Sensores-Remotos/TALLERES/Taller_BaseInstrumental.pdf\n",
      "currentLink /Sensores-Remotos/TALLERES/Taller_Fotogrametria.pdf\n",
      "currentLink /Sensores-Remotos/TALLERES/Taller_Criterios.pdf\n",
      "currentLink /TALLERES/Taller_FotointerpretacionGeologica.pdf\n",
      "currentLink /Sensores-Remotos/TALLERES/Taller_Anaglifos.pdf\n",
      "currentLink /Sensores-Remotos/TALLERES/Taller_TrabajoFinal.pdf\n",
      " \n",
      " \n",
      " Unable to Download A File \n",
      "\n",
      " \n",
      " \n",
      " Unable to Download A File \n",
      "\n",
      " \n",
      " \n",
      " Unable to Download A File \n",
      "\n",
      " \n",
      " \n",
      " Unable to Download A File \n",
      "\n",
      " \n",
      " \n",
      " Unable to Download A File \n",
      "\n",
      " \n",
      " \n",
      " Unable to Download A File \n",
      "\n",
      " \n",
      " \n",
      " Unable to Download A File \n",
      "\n",
      " \n",
      " \n",
      " Unable to Download A File \n",
      "\n",
      " \n",
      " \n",
      " Unable to Download A File \n",
      "\n",
      " \n",
      " \n",
      " Unable to Download A File \n",
      "\n",
      " \n",
      " \n",
      " Unable to Download A File \n",
      "\n",
      " \n",
      " \n",
      " Unable to Download A File \n",
      "\n",
      " \n",
      " \n",
      " Unable to Download A File \n",
      "\n"
     ]
    }
   ],
   "source": [
    "from urllib.parse import urlparse\n",
    "import wget\n",
    "get_pdfs(\"https://edieraristizabal.github.io/Sensores-Remotos/\")"
   ]
  },
  {
   "cell_type": "code",
   "execution_count": 97,
   "id": "66f5abf3-98a8-4794-9998-7488ead934a1",
   "metadata": {},
   "outputs": [
    {
     "data": {
      "text/plain": [
       "['https://edieraristizabal.github.io//Sensores-Remotos/Programa_SensoresRemoto.pdf',\n",
       " 'https://edieraristizabal.github.io//Sensores-Remotos/TALLERES/Taller_Descarga.pdf',\n",
       " 'https://edieraristizabal.github.io//Sensores-Remotos/TALLERES/Taller_ProgramasEspaciales.pdf',\n",
       " 'https://edieraristizabal.github.io//Sensores-Remotos/TALLERES/Taller_Indices.pdf',\n",
       " 'https://edieraristizabal.github.io//Sensores-Remotos/TALLERES/Taller_Clasificacion.pdf',\n",
       " 'https://edieraristizabal.github.io//Sensores-Remotos/TALLERES/Taller_PostProcesamiento.pdf',\n",
       " 'https://edieraristizabal.github.io//Sensores-Remotos/TALLERES/Taller_Radar.pdf',\n",
       " 'https://edieraristizabal.github.io//Sensores-Remotos/TALLERES/Taller_BaseInstrumental.pdf',\n",
       " 'https://edieraristizabal.github.io//Sensores-Remotos/TALLERES/Taller_Fotogrametria.pdf',\n",
       " 'https://edieraristizabal.github.io//Sensores-Remotos/TALLERES/Taller_Criterios.pdf',\n",
       " 'https://edieraristizabal.github.io//TALLERES/Taller_FotointerpretacionGeologica.pdf',\n",
       " 'https://edieraristizabal.github.io//Sensores-Remotos/TALLERES/Taller_Anaglifos.pdf',\n",
       " 'https://edieraristizabal.github.io//Sensores-Remotos/TALLERES/Taller_TrabajoFinal.pdf']"
      ]
     },
     "execution_count": 97,
     "metadata": {},
     "output_type": "execute_result"
    }
   ],
   "source": [
    "links"
   ]
  },
  {
   "cell_type": "code",
   "execution_count": 37,
   "id": "1171e767-2501-4d28-a1a6-edf89aa7280f",
   "metadata": {},
   "outputs": [
    {
     "name": "stdout",
     "output_type": "stream",
     "text": [
      "241\n"
     ]
    }
   ],
   "source": [
    "title_index = html.find(\"<title>\")\n",
    "print(title_index)"
   ]
  },
  {
   "cell_type": "code",
   "execution_count": 38,
   "id": "6b06329f-c3a2-4064-b291-13b25497eea6",
   "metadata": {},
   "outputs": [
    {
     "name": "stdout",
     "output_type": "stream",
     "text": [
      "241\n"
     ]
    }
   ],
   "source": [
    "title_end = html.find(\"</title>\")\n",
    "print(title_index)"
   ]
  },
  {
   "cell_type": "code",
   "execution_count": 39,
   "id": "4862be2b-6992-4997-ac5d-7d4e483309c7",
   "metadata": {},
   "outputs": [
    {
     "name": "stdout",
     "output_type": "stream",
     "text": [
      "248\n"
     ]
    }
   ],
   "source": [
    "start_index = title_index + len(\"<title>\")\n",
    "print(start_index)"
   ]
  },
  {
   "cell_type": "code",
   "execution_count": 40,
   "id": "bf2f5039-8273-47f2-b6ee-25eb431ac8c4",
   "metadata": {},
   "outputs": [
    {
     "name": "stdout",
     "output_type": "stream",
     "text": [
      "283\n"
     ]
    }
   ],
   "source": [
    "end_index = html.find(\"</title>\")\n",
    "print(end_index)"
   ]
  },
  {
   "cell_type": "code",
   "execution_count": 43,
   "id": "b9f8f0f9-27e4-4dbb-a857-bf0597aa4912",
   "metadata": {},
   "outputs": [
    {
     "name": "stdout",
     "output_type": "stream",
     "text": [
      "Sensores Remotos | Sensores-Remotos\n"
     ]
    }
   ],
   "source": [
    "title = html[start_index:end_index]\n",
    "print(title)"
   ]
  }
 ],
 "metadata": {
  "kernelspec": {
   "display_name": "Python 3 (ipykernel)",
   "language": "python",
   "name": "python3"
  },
  "language_info": {
   "codemirror_mode": {
    "name": "ipython",
    "version": 3
   },
   "file_extension": ".py",
   "mimetype": "text/x-python",
   "name": "python",
   "nbconvert_exporter": "python",
   "pygments_lexer": "ipython3",
   "version": "3.9.12"
  }
 },
 "nbformat": 4,
 "nbformat_minor": 5
}
