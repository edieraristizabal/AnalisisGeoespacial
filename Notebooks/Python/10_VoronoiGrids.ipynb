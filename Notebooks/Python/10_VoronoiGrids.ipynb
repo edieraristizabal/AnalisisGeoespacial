{
 "cells": [
  {
   "cell_type": "markdown",
   "metadata": {},
   "source": [
    "**CURSO**: Análisis Geoespacial, Departamento de Geociencias y Medio Ambiente, Universidad Nacional de Colombia - sede Medellín <br/>\n",
    "**Profesor**: Edier Aristizábal (evaristizabalg@unal.edu.co) <br />\n",
    "**Credits**: The content of this notebook is taken from several other sources, such as: [Lee Vaughan](https://towardsdatascience.com/voronoi-grids-a-practical-application-7e6ee3b1daf0). Every effort has been made to trace copyright holders of the materials used in this book. The author apologies for any unintentional omissions and would be pleased to add an acknowledgment in future editions. "
   ]
  },
  {
   "cell_type": "markdown",
   "metadata": {},
   "source": [
    "# Voronoi Grids"
   ]
  },
  {
   "cell_type": "markdown",
   "metadata": {},
   "source": [
    "Voronoi grids, also called Voronoi diagrams, are used to partition a plane into discrete regions around a given set of seed points. For each seed, there is a corresponding region, called a Voronoi cell, within which all points on the plane are closer to that seed than to any other.\n",
    "\n",
    "For making Voronoi diagrams, SciPy provides the scipy.spatial.voronoi() class, which uses the Qhull library to compute the Voronoi grid. As mentioned previously, all the locations within a grid cell should be closer to the seed point used to generate that cell than to any other seed point."
   ]
  },
  {
   "cell_type": "code",
   "execution_count": null,
   "metadata": {},
   "outputs": [],
   "source": [
    "import pandas as pd\n",
    "import geopandas as gpd\n",
    "import folium\n",
    "from shapely.geometry import Polygon\n",
    "from scipy.spatial import Voronoi"
   ]
  },
  {
   "cell_type": "code",
   "execution_count": null,
   "metadata": {},
   "outputs": [],
   "source": [
    "# Load the school locations CSV file into a DataFrame:\n",
    "df = pd.read_csv('https://bit.ly/3MYYegT')"
   ]
  },
  {
   "cell_type": "code",
   "execution_count": null,
   "metadata": {},
   "outputs": [],
   "source": [
    "# Create a GeoDataFrame with Point geometries:\n",
    "gdf = gpd.GeoDataFrame(df,geometry=gpd.points_from_xy(df['Longitude'],df['Latitude']), crs='EPSG:4326')"
   ]
  },
  {
   "cell_type": "code",
   "execution_count": null,
   "metadata": {},
   "outputs": [],
   "source": [
    "# Create a Voronoi diagram using the GeoDataFrame.\n",
    "# Use -1 to check for and exclude regions that extend to infinity:\n",
    "vor = Voronoi(gdf[['Longitude', 'Latitude']])\n",
    "voronoi_polygons = [Polygon(vor.vertices[region]) \n",
    "                    for region in vor.regions \n",
    "                    if region and -1 not in region]\n",
    "\n",
    "# Create a GeoDataFrame with the Voronoi polygons:\n",
    "gdf_voronoi = gpd.GeoDataFrame(geometry=voronoi_polygons,crs='EPSG:4326')"
   ]
  },
  {
   "cell_type": "markdown",
   "metadata": {},
   "source": [
    "Because we’re not using all the primary schools in the area, many edge cells will be unconstrained and may extend for ridiculously long distances. To handle these, we’ll create a bounding box and use it to truncate any Voronoi cells (polygons) that extend beyond it."
   ]
  },
  {
   "cell_type": "code",
   "execution_count": null,
   "metadata": {},
   "outputs": [],
   "source": [
    "# Define the bounding box lat-lon limits:\n",
    "max_lat, min_lat, max_lon, min_lon = (-37.75, -37.9, 145.18, 144.84)\n",
    "\n",
    "# Create the bounding box as a Shapely Polygon\n",
    "bounding_box = Polygon.from_bounds(min_lon, min_lat, max_lon, max_lat)\n",
    "\n",
    "# Truncate each Voronoi polygon with the bounding box:\n",
    "truncated_polygons = [polygon.intersection(bounding_box) for polygon in gdf_voronoi.geometry]\n",
    "\n",
    "# Create a GeoDataFrame with the truncated polygons:\n",
    "gdf_truncated = gpd.GeoDataFrame(geometry=truncated_polygons, crs='EPSG:4326')"
   ]
  },
  {
   "cell_type": "code",
   "execution_count": null,
   "metadata": {},
   "outputs": [],
   "source": [
    "# Create a Folium map centered on the average coordinates of the schools:\n",
    "map_center = [gdf['Latitude'].mean(), gdf['Longitude'].mean()]\n",
    "school_map = folium.Map(location=map_center, zoom_start=12, tiles='OpenStreetMap')\n",
    "\n",
    "# Plot the truncated Voronoi polygons on the map:\n",
    "folium.GeoJson(gdf_truncated).add_to(school_map)\n",
    "\n",
    "# Add markers for each school:\n",
    "for index, school in gdf.iterrows():\n",
    "    folium.Marker(location=[school['Latitude'], school['Longitude']],popup=f\"{school['School']}\\n\\{school['Street Address']}\\n{school['Town']}\",icon=folium.Icon(color='blue', icon='home')).add_to(school_map)\n",
    "\n",
    "# Save the map as an HTML file (optional):\n",
    "# school_map.save('school_voronoi_map_truncated.html')\n",
    "\n",
    "# Display the map in the notebook:\n",
    "school_map"
   ]
  },
  {
   "cell_type": "code",
   "execution_count": 110,
   "metadata": {},
   "outputs": [
    {
     "name": "stdout",
     "output_type": "stream",
     "text": [
      "Collecting geovoronoi\n",
      "  Downloading geovoronoi-0.3.0-py3-none-any.whl (21 kB)\n",
      "Requirement already satisfied: numpy<2,>=1.19.0 in /opt/conda/lib/python3.8/site-packages (from geovoronoi) (1.19.5)\n",
      "Requirement already satisfied: scipy<1.7,>=1.5.0 in /opt/conda/lib/python3.8/site-packages (from geovoronoi) (1.6.0)\n",
      "Requirement already satisfied: shapely<1.8,>=1.7.0 in /opt/conda/lib/python3.8/site-packages (from geovoronoi) (1.7.1)\n",
      "Installing collected packages: geovoronoi\n",
      "Successfully installed geovoronoi-0.3.0\n"
     ]
    }
   ],
   "source": [
    "!pip install geovoronoi"
   ]
  },
  {
   "cell_type": "markdown",
   "metadata": {},
   "source": [
    "For this project I create a voronoi diagram on the map based on data points (or point of interests), voronoi diagram have applications in almost all areas of science and engineering. For geospatial use case, it is useful to tell us the closest point of interest (POI) by representing each POI with a dot inside a polygon shape. So within a polygon, the closest POI is definitely the dot inside the polygon.\n",
    "\n",
    "Ok, let's start the project. As usual, for the first step let's import all necessary packages"
   ]
  },
  {
   "cell_type": "code",
   "execution_count": 111,
   "metadata": {},
   "outputs": [],
   "source": [
    "from shapely.ops import cascaded_union\n",
    "from geovoronoi.plotting import subplot_for_map, plot_voronoi_polys_with_points_in_area\n",
    "from geovoronoi import voronoi_regions_from_coords, points_to_coords\n",
    "from shapely.geometry import Point, LineString, Polygon"
   ]
  },
  {
   "cell_type": "code",
   "execution_count": 112,
   "metadata": {},
   "outputs": [],
   "source": [
    "colombia = colombia.to_crs(epsg=3116)    # convert to World Mercator CRS\n",
    "area_shape = colombia.iloc[0].geometry   # get the Polygon"
   ]
  },
  {
   "cell_type": "code",
   "execution_count": 72,
   "metadata": {},
   "outputs": [
    {
     "data": {
      "text/plain": [
       "shapely.geometry.polygon.Polygon"
      ]
     },
     "execution_count": 72,
     "metadata": {},
     "output_type": "execute_result"
    }
   ],
   "source": [
    "a=colombia.iloc[0].geometry\n",
    "type(a)"
   ]
  },
  {
   "cell_type": "code",
   "execution_count": 113,
   "metadata": {},
   "outputs": [
    {
     "data": {
      "image/svg+xml": [
       "<svg xmlns=\"http://www.w3.org/2000/svg\" xmlns:xlink=\"http://www.w3.org/1999/xlink\" width=\"300\" height=\"300\" viewBox=\"378477.1411564029 -58908.72030888192 1499219.6119574024 2001365.4329497865\" preserveAspectRatio=\"xMinYMin meet\"><g transform=\"matrix(1,0,0,-1,0,1883547.9923320226)\"><path fill-rule=\"evenodd\" fill=\"#66cc99\" stroke=\"#555555\" stroke-width=\"13342.436219665244\" opacity=\"0.6\" d=\"M 1803572.1074489984,631466.2141521939 L 1782440.1843623836,617677.0112172251 L 1760387.42282986,683318.4595109689 L 1729130.363037699,718510.3819177875 L 1692239.8304905943,680021.1769056879 L 1474509.2328460834,681910.1271980167 L 1476017.0481723072,612529.8827077163 L 1541460.8436144656,601153.7876367638 L 1537735.3767004348,558643.8244369456 L 1515389.9122428938,570107.3667894339 L 1452535.0031881584,551785.8166079241 L 1451984.7234288554,471242.2288012324 L 1501483.3641539998,430763.20228084235 L 1518893.5659033211,367220.79465982725 L 1516165.2681949292,319114.0182463977 L 1464856.8159314445,15215.925355924992 L 1409443.1161374738,74407.89252301224 L 1376217.2603749945,77170.19413938106 L 1448461.99372257,189682.2944700427 L 1363267.6996949532,241807.27017968346 L 1296400.728726764,232430.58587165328 L 1256227.339112713,251648.43107258622 L 1194856.4045469286,222477.4702989274 L 1112026.9820540955,236415.5211080002 L 1046521.2640013637,352385.6711586248 L 995003.9314127153,380879.9052750567 L 959470.8509523477,433071.28730012337 L 885433.1188014748,485441.0503795142 L 855749.7566511356,474952.40454340365 L 808060.9332997624,501148.6556858039 L 753393.4934502512,537806.2911840954 L 721740.8161912039,520205.22070769663 L 627155.8765948087,535595.6001548932 L 600017.6582571091,583270.9813501278 L 579219.5098038244,581520.7598105131 L 467675.92375098064,644998.2985177925 L 452601.7868212098,679484.1510303894 L 494279.9520378696,687705.6492768603 L 489493.4015346768,743289.394493439 L 515788.7054816848,783375.3348498343 L 571118.4485206625,790624.3835975174 L 618259.2788321212,860096.9225038586 L 661056.5575595666,918050.841721969 L 620161.8988876683,944567.8202795739 L 641423.6659155721,1008761.1771890371 L 616894.9369826457,1110227.489308402 L 640854.0950139607,1139171.2412581171 L 623952.1845208444,1232967.4450605034 L 579571.3370676015,1292330.126792343 L 594204.4346168868,1346077.1236955442 L 629764.0158941024,1337832.0868105572 L 650846.7397574594,1370593.681004501 L 625762.8102344115,1436049.8470068844 L 639284.945443482,1452131.2712861556 L 696199.8069289059,1448162.7441942939 L 779273.0636861828,1524898.9754911743 L 824584.328176882,1536443.5039875035 L 825840.7822261327,1573035.1243529143 L 846470.580800721,1666435.229479719 L 909380.8160306751,1717545.637452987 L 978232.507677551,1719527.544519798 L 986930.5416650812,1742579.4365905053 L 1072375.181294311,1733426.473023082 L 1158043.024169277,1789608.9666177367 L 1200370.493104226,1814601.214174858 L 1252674.4289005038,1868332.0669760976 L 1291293.5732434387,1861910.70414798 L 1320173.9508189405,1833075.2445744511 L 1299388.5472199672,1795569.2441499094 L 1229458.9472880764,1776410.8496099664 L 1202132.89621327,1720886.5294344309 L 1159982.7511549257,1688925.0505217025 L 1128349.175022533,1647672.8045136717 L 1115208.3390378263,1568685.8824008957 L 1084915.4324883288,1503920.3429501518 L 1141689.6066456195,1496673.6138183423 L 1155984.2070807004,1445863.830852191 L 1180380.327244862,1421618.3319310646 L 1189270.6111245854,1377105.8660547328 L 1176326.257105166,1336102.9318560977 L 1180297.046937528,1313025.2003562008 L 1207519.822124928,1303909.7127227983 L 1234011.3066006992,1265425.2090477315 L 1376190.8300932106,1276914.0274666343 L 1440618.6707164776,1263302.7817015175 L 1519504.4727410935,1168542.9604643763 L 1564289.9656109684,1180823.9269677731 L 1644424.6446090427,1175699.7294197595 L 1707709.4497121035,1189115.9729614137 L 1747340.3891641821,1170476.1465280268 L 1727971.9054729985,1110280.1302612612 L 1703479.3367369599,1072654.8545835132 L 1695486.3082184861,992787.367768296 L 1718558.4189346246,919041.2359284724 L 1750594.670442913,886201.799109282 L 1754619.6812352543,861298.835097441 L 1698259.6078990917,805547.0578490373 L 1738995.166736784,781240.2041208164 L 1768960.4311422398,742455.5418604879 L 1803572.1074489984,631466.2141521939 z\" /></g></svg>"
      ],
      "text/plain": [
       "<shapely.geometry.polygon.Polygon at 0x7f10a5444190>"
      ]
     },
     "execution_count": 113,
     "metadata": {},
     "output_type": "execute_result"
    }
   ],
   "source": [
    "area_shape"
   ]
  },
  {
   "cell_type": "code",
   "execution_count": 114,
   "metadata": {},
   "outputs": [
    {
     "data": {
      "text/plain": [
       "<AxesSubplot:>"
      ]
     },
     "execution_count": 114,
     "metadata": {},
     "output_type": "execute_result"
    },
    {
     "data": {
      "image/png": "[encoded data removed]",
      "text/plain": [
       "<Figure size 432x288 with 1 Axes>"
      ]
     },
     "metadata": {
      "needs_background": "light"
     },
     "output_type": "display_data"
    }
   ],
   "source": [
    "colombia.plot()"
   ]
  },
  {
   "cell_type": "code",
   "execution_count": 115,
   "metadata": {},
   "outputs": [
    {
     "data": {
      "text/plain": [
       "array([[ 750000,  750000],\n",
       "       [ 800000, 1250000],\n",
       "       [1000000, 1500000],\n",
       "       [1250000,  500000],\n",
       "       [1250000, 1000000],\n",
       "       [1300000, 1100000],\n",
       "       [1350000, 1000000]])"
      ]
     },
     "execution_count": 115,
     "metadata": {},
     "output_type": "execute_result"
    }
   ],
   "source": [
    "import numpy as np\n",
    "coord = np.array([[750000,750000],[800000,1250000],[1000000,1500000],[1250000,500000],[1250000,1000000],[1300000,1100000],[1350000,1000000]])\n",
    "coord"
   ]
  },
  {
   "cell_type": "code",
   "execution_count": 116,
   "metadata": {},
   "outputs": [],
   "source": [
    "poly_shapes, pts= voronoi_regions_from_coords(coord, area_shape)"
   ]
  },
  {
   "cell_type": "code",
   "execution_count": 117,
   "metadata": {},
   "outputs": [
    {
     "data": {
      "image/png": "[encoded data removed]",
      "text/plain": [
       "<Figure size 432x288 with 1 Axes>"
      ]
     },
     "metadata": {
      "needs_background": "light"
     },
     "output_type": "display_data"
    }
   ],
   "source": [
    "import matplotlib.pyplot as plt\n",
    "fig, ax = subplot_for_map()\n",
    "plot_voronoi_polys_with_points_in_area(ax, area_shape, poly_shapes, coord)\n",
    "ax.set_title('Voronoi regions')\n",
    "plt.tight_layout()\n",
    "plt.show()"
   ]
  }
 ],
 "metadata": {
  "accelerator": "GPU",
  "colab": {
   "name": "gpd.ipynb",
   "provenance": []
  },
  "kernelspec": {
   "display_name": "Python 3 (ipykernel)",
   "language": "python",
   "name": "python3"
  },
  "language_info": {
   "codemirror_mode": {
    "name": "ipython",
    "version": 3
   },
   "file_extension": ".py",
   "mimetype": "text/x-python",
   "name": "python",
   "nbconvert_exporter": "python",
   "pygments_lexer": "ipython3",
   "version": "3.11.4"
  }
 },
 "nbformat": 4,
 "nbformat_minor": 4
}
