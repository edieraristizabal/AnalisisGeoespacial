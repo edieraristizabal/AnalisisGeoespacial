{
 "cells": [
  {
   "cell_type": "markdown",
   "metadata": {},
   "source": [
    "**CURSO**: Análisis Geoespacial, Departamento de Geociencias y Medio Ambiente, Universidad Nacional de Colombia - sede Medellín <br/>\n",
    "**Profesor**: Edier Aristizábal (evaristizabalg@unal.edu.co) <br />\n",
    "**Credits**: The content of this notebook is taken from several sources: [Introduction to Python GIS](https://automating-gis-processes.github.io/CSC18/lessons/L1/Intro-Python-GIS.html), Python for geosciences by [Mauricio Cordeiro](https://cordmaur.medium.com/) and the courses and book open and freely published by [Dani Arribas-Bel](http://darribas.org/) -  University of Liverpool & - Sergio Rey - [Center for Geospatial Sciences, University of California, Riverside](http://spatial.ucr.edu). Every effort has been made to trace copyright holders of the materials used in this book. The author apologies for any unintentional omissions and would be pleased to add an acknowledgment in future editions. "
   ]
  },
  {
   "cell_type": "markdown",
   "metadata": {},
   "source": [
    "# Computational tools for Geographic Data Science\n",
    "\n",
    "In this tutorial it is introduced some of the tools we will be working with throughout the course. Although very basic and seemingly abstract, everything showed here will become the basis on top of which we will build more sophisticated tasks."
   ]
  },
  {
   "cell_type": "markdown",
   "metadata": {},
   "source": [
    "## Open Source"
   ]
  },
  {
   "cell_type": "markdown",
   "metadata": {},
   "source": [
    "This course will introduce you to a series of computational tools that make the life of the Data Scientist possible, and much easier. All of them are [open-source](https://en.wikipedia.org/wiki/Open_source), which means the creators of these pieces of software have made available the source code for people to use it, study it, modify it, and re-distribute it. This has allowed a large eco-system that today represents the best option for scientific computing, and is used widely both in industry and academia. Thanks to this, this course can be taught with entirely freely available tools that you can install in any of your computers.\n",
    "\n",
    "If you want to learn more about open-source and free software, here are a few links:\n",
    "\n",
    "* **[Video]**: brief [explanation](https://www.youtube.com/watch?v=Tyd0FO0tko8) of open source.\n",
    "* **[Book]** [The Cathedral and the Bazaar](https://en.wikipedia.org/wiki/The_Cathedral_and_the_Bazaar): classic book, freely available, that documents the benefits and history of open-source software."
   ]
  },
  {
   "cell_type": "markdown",
   "metadata": {},
   "source": [
    "## Python"
   ]
  },
  {
   "cell_type": "markdown",
   "metadata": {},
   "source": [
    "The main bulk of the course relies on the [Python](https://www.python.org/) programming language. Python is a [high-level](https://en.wikipedia.org/wiki/High-level_programming_language) programming language widely used today.\n",
    "\n",
    "<center><img src=\"https://www.python.org/static/img/python-logo@2x.png\" width=\"1000\"></center>\n",
    "\n",
    "Python is extremely useful language to learn in terms of GIS since many (or most) of the different GIS Software packages (such as ArcGIS, QGIS, PostGIS etc.) provide an interface to do analysis using Python scripting. During this course, we will mostly focus on doing Geospatial analysis without any third party softwares such as ArcGIS. Why? There are several reasons for doing it using Python without any additional software:\n",
    "\n",
    "* Everything is free: you don’t need to buy and expensive license for ArcGIS (for example)\n",
    "* You will learn and understand much more deeply how different geoprocessing operations work\n",
    "* Python is highly efficient: used for analysing Big Data\n",
    "* Python is highly flexible: supports all data formats that you can imagine\n",
    "*  Using Python (or any other open-source programming language) supports open source softwares/codes and open science by making it possible for everyone to reproduce your work, free-of-charge.\n",
    "* Plug-in and chain different third-party softwares to build e.g. a fancy web-GIS applications as you want (using e.g. GeoDjango with PostGIS as a back-end)\n",
    "\n",
    "This course uses Python because it has emerged as one of the main and most solid options for Data Science, together with other free alternatives such as R. Python is widely used for data processing and analysis both in academia and in industry. There is a vibrant and growing scientific community, working at both universities and companies, that supports and enhances its capabilities for data analysis by providing new and refining existing extensions (a.ka.a. libraries, see below). In the geospatial world, Python is also very widely adopted, being the selected language for scripting in both [ArcGIS](http://www.esri.com/software/arcgis) and [QGIS](http://qgis.org). All of this means that, whether you are thinking of continuing in Higher Education or trying to find a job in industry, Python will be an importan asset that employers will significantly value.\n",
    "\n",
    "Being a high-level language means that the code can be \"dynamically interpreted\", which means it is run on-the-fly without the need to be compiled. This is in contrast to \"low-level\" programming languages, which first need to be converted into machine code (i.e. compiled) before they can be run. With Python, one does not need to worry about compilation and can just write code, evaluate, fix it, re-evaluate it, etc. in a quick cycle, making it a very productive tool.\n",
    "\n",
    "The two most popular distributions are [**Anaconda** and **Miniconda**](https://docs.conda.io/projects/conda/en/latest/user-guide/install/download.html#anaconda-or-miniconda). **Anaconda** is an open source Python distribution that is purpose built for data science, machine learning, and large-scale data processing. It includes the core Python language, over 1,500 data science packages, a package management system called conda, IPython (an interactive Python interpreter), and much more. While it is a very comprehensive distribution, it is also quite large and therefore can take a while to download and consumes a lot of disk space. **Miniconda** on the other hand, is a slimmed down version of Anaconda and includes all of the same components except for the pre-installed 1,500 data science packages. Instead, we can simply install these packages individually as needed using conda (the Anaconda/Miniconda package manager).\n",
    "\n",
    "<center><img src=\"https://sf.ezoiccdn.com/ezoimgfmt/linuxnetmag.com/wp-content/uploads/2020/11/MinicondavsAnaconda.jpg?ezimgfmt=ng%3Awebp%2Fngcb1%2Frs%3Adevice%2Frscb1-1\" width=\"800\"></center>\n",
    "\n",
    "Choose **Anaconda** if you:\n",
    "\n",
    "* Are new to conda or Python.\n",
    "* Like the convenience of having Python and over 1,500 scientific packages automatically installed at once.\n",
    "* Have the time and disk space---a few minutes and 3 GB.\n",
    "* Do not want to individually install each of the packages you want to use.\n",
    "\n",
    "Choose **Miniconda** if you:\n",
    "\n",
    "* Do not mind installing each of the packages you want to use individually.\n",
    "* Do not have time or disk space to install over 1,500 packages at once.\n",
    "* Want fast access to Python and the conda commands and you wish to sort out the other programs later.\n",
    "\n",
    "Similar to how there are many different Python distributions, there are also several different package managers available. Despite having several options, most package managers function in the same manner and use a simple command structure. Each Python distribution is usually bundled with a specific package manager. Some of the more common ones are pip and conda.\n",
    "\n",
    "Below is a list of useful libraries (and links to their docs) that helps you get going when doing data analysis or GIS in Python. If you are interested or when you start using these modules in your own work, it is highly recommended to read the documentation from the web pages of the module that you use:\n",
    "\n",
    "### Data analysis & visualization:\n",
    "* Numpy –> Fundamental package for scientific computing with Python\n",
    "* Pandas –> High-performance, easy-to-use data structures and data analysis tools\n",
    "* Scipy –> A collection of numerical algorithms and domain-specific toolboxes, including signal processing, optimization and statistics\n",
    "* Statsmodels –> Statistical models for Python\n",
    "* Scikit-learn –> Machine learning for Python (classification, regression, clustering, etc.)\n",
    "* Matplotlib –> Basic plotting library for Python\n",
    "* Seaborn –> Statistical data visualization\n",
    "* Bokeh –> Interactive visualizations for the web (also maps)\n",
    "* Plotly –> Interactive visualizations (also maps) for the web (commercial - free for educational purposes)\n",
    "* Dash –> Building analytical web applications with Python (no Javascript required)\n",
    "\n",
    "### GIS:\n",
    "* GDAL –> Fundamental package for processing vector and raster data formats (many modules below depend on this). Used for raster processing.\n",
    "* Geopandas –> Working with geospatial data in Python made easier, combines the capabilities of pandas and shapely.\n",
    "* Shapely –> Python package for manipulation and analysis of planar geometric objects (based on widely deployed GEOS).\n",
    "* Fiona –> Reading and writing spatial data (alternative for geopandas).\n",
    "* Pyproj –> Performs cartographic transformations and geodetic computations (based on PROJ.4).\n",
    "* PyCRS –> Working eaily with different CRS specifications (EPSG, ESRI, Proj4)\n",
    "* Pysal –> Library of spatial analysis functions written in Python.\n",
    "* Geopy –> Geocoding library: coordinates to address <-> address to coordinates.\n",
    "* GeoViews –> Interactive Maps for the web.\n",
    "* Geoplot –> High-level geospatial data visualization library for Python.\n",
    "* GeoNotebook –> Desktop GIS-like environment for visualizing and interacting with spatial data using Python (based on Jupyter Notebooks)\n",
    "* OSMnx –> Python for street networks. Retrieve, construct, analyze, and visualize street networks from OpenStreetMap\n",
    "* Networkx –> Network analysis and routing in Python (e.g. Dijkstra and A* -algorithms), see this post.\n",
    "* Cartopy –> Make drawing maps for data analysis and visualisation as easy as possible.\n",
    "* Scipy.spatial –> Spatial algorithms and data structures.\n",
    "* Rtree –> Spatial indexing for Python for quick spatial lookups.\n",
    "* Rasterio –> Clean and fast and geospatial raster I/O for Python.\n",
    "* Rasterstats –> A module for summarizing geospatial raster datasets based on vector geometries (e.g. conduct zonal statistics).\n",
    "* RSGISLib –> Remote Sensing and GIS Software Library for Python.\n",
    "\n",
    "<center><img  src=\"https://www.alpha-quantum.com/blog/wp-content/uploads/2020/05/img_5ecd875868599.png\" width=\"1000\" class=\"center\"></center>"
   ]
  },
  {
   "cell_type": "markdown",
   "metadata": {},
   "source": [
    "### Installing Python via Anaconda or Anaconda"
   ]
  },
  {
   "cell_type": "markdown",
   "metadata": {},
   "source": [
    "It is highly recommend that you install the [Anaconda Python Distribution](https://docs.continuum.io/anaconda/install/). It will make your life so much easier. You can download and install Anaconda on Windows, OSX and Linux.\n",
    "\n",
    "<center><img src=\"https://miro.medium.com/max/700/1*TaL5qaSnR2QOef69e49LPQ.png\" width=\"1000\"></center>"
   ]
  },
  {
   "cell_type": "markdown",
   "metadata": {},
   "source": [
    "If you prefer [Miniconda](https://docs.conda.io/en/latest/miniconda.html), you will need to download and install Miniconda. **Miniconda** no tiene una interface para el usuario como Anaconda, debe ser a travez de la línea de comando.\n",
    "\n",
    "<center><img src=\"https://katiekodes.com/images/screenshot-miniconda-02-execute.png\" width=\"700\"></center>\n",
    "\n",
    "Next, the installer is going to ask you whether you want to do either of two things.\n",
    "\n",
    "* Add “Anaconda” to my “PATH” environment variable. It says not to do it right in the installer text, I recommend to check it.\n",
    "* Register “Anaconda” as my “default Python 3.7” environment. This comes checked, and they recommend it.\n",
    "\n",
    "Both Anaconda and Miniconda come with Conda. And because Conda is a package manager, what you can accomplish with Anaconda, you can do with Miniconda. In other words, the steps in the Miniconda section (creating a custom environment with Conda) will work after you've gone through the Anaconda section."
   ]
  },
  {
   "cell_type": "markdown",
   "metadata": {},
   "source": [
    "### Without Anaconda"
   ]
  },
  {
   "cell_type": "markdown",
   "metadata": {},
   "source": [
    "If you prefer to install Python without Anaconda or Miniconda go to the [Python Releases](https://www.python.org/downloads/) page and download the latest stable release executable installer. After the download is complete, run the installer. On the first page of the installer, be sure to select the “Add Python to PATH” option and click through the remaining setup steps leaving all the pre-select installation defaults.\n",
    "\n",
    "<center><img src=\"https://docs.blender.org/manual/es/2.79/_images/about_contribute_install_windows_installer.png\" width=\"1000\"></center>\n",
    "\n",
    "In this case, for installing Jupyter or any other package you need to use pip. [Pip](https://pypi.org/project/pip/) is a package manager that is specifically designed to install Python packages exclusively. In contrast, Conda is an open-source installer and package-management tool that can also handle both Python and non-Python library dependencies. \n",
    "\n",
    "Conda offers virtual environment capabilities and can run on multiple operating systems like Windows, Linux, and macOS. With Conda, you will be able to create, load, save, and switch between different environments. \n",
    "\n",
    "```\n",
    "pip install -c conda-forge jupyterlab\n",
    "```\n",
    "\n",
    "This line download and install the Jupyter Notebook package. Once complete, we can check that Jupyter Notebook was successfully installed by running jupyter notebook from a Terminal (Mac) / Command Prompt (Windows). This will startup the Jupyter Notebook server, print out some information about the notebook server in the console, and open up a new browser tab at http://localhost:8888.\n",
    "\n",
    "<center><img src=\"https://miro.medium.com/max/2400/1*dAZ5etmJphQQCP-ys6Wd_Q.png\" width=\"800\"></center>"
   ]
  },
  {
   "cell_type": "markdown",
   "metadata": {},
   "source": [
    "## Starting Jupyter Lab\n",
    "\n",
    "The main computational tool you will be using during this course is [Jupyter Lab](http://jupyter.org/). Jupyter Lab is an interactive web interface for code development, which follows the concept known as REPL (Read — Evaluate — Print — Loop), that is widely used by data scientists. The great advantage of using a REPL environment is that we can develop our code in a gradual manner, executing command by command and checking its results. Additionally, we can keep explanatory text together with the code that we are going to develop and also view the results, all in the same environment without need to alternate between the command line and other applications, such as image viewer or others. Notebooks are a convenient way to thread text, code and the output it produces in a single file that you can then share, edit and modify. You can think of notebooks as the Word document of Data Scientists.\n",
    "\n",
    "A notebook comprises a single file that stores narrative text, computer code, and the output produced by code. Storing both narrative and computational work in a single file means that the entire workflow can be recorded and documented in the same place, without having to resort to ancillary devices (like a paper notebook). A second feature of notebooks is that they allow for interactive work. Modern computational work benefits from the ability to try, fail, tinker, and iterate quickly until a working solution is found. Notebooks embody this quality and enable the user to work interactively. Whether the computation takes place on a laptop or on a data center, notebooks provide the same interface for interactive computing, lowering the cognitive load require to scale up. Third, notebooks have interoperability built in. The notebook format is designed for recording and sharing computational work, but not necessarily for other stages of the research cycle. To widen the range of possibilities and applications, notebooks are designed to be easily convertible into other formats. For example, while a specific application is required to open and edit most notebook file formats, no additional software is required to convert them into pdf files that can be read, printed, and annotated without the need of technical software.\n",
    "\n",
    "A Jupyter notebook is a plain text file with the **.ipynb** extension, which means that it is an easy file to move around, sync, and track over time. Internally, it is structured as a plain-text document containing JavaScript Object Notation that records the state of the notebook, so they also integrate well with a host of modern web technologies. The atomic element that makes up a notebook is called a cell. Cells are consistent chunks of content that contain either text or code. In fact, a notebook can be thought of as an ordered collection of cells. Cells can be of two types: text and code."
   ]
  },
  {
   "cell_type": "markdown",
   "metadata": {},
   "source": [
    "### Creating an environment and installing packages\n",
    "\n",
    "Before starting with Jupyter Lab, it is recommended to create an environment for spatial analysis. Environments con be considered repositories in which Python packages are installed to in order to avoid conflicts between packages and versions. For example, if you have code developed using a NumPy 1.18 package and this code does not work with the current version which is 1.20, you can (and should) create specific environments for each version. \n",
    "\n",
    "Conda comes initially with a standard environment called base (root). Before installing our packages we will create a new environment, by clicking on Environments tab on the left and the Create button below the list of environments. To this new environment, we can give any name such as “geospatial” and select Python 3.7 as the main package.\n",
    "\n",
    "<center><img src=\"https://miro.medium.com/max/700/1*EEcFGtMxuu42T42jgmvSzA.png\" width=\"1000\"></center>\n",
    "\n",
    "To install a new package, it is necessary to search for the desired package name using the search bar (don’t forget to select All from the dropdown box), select the package from the list and click Apply.  As the packages work with dependencies, depending on the package to be installed it will install all the necessary packages that don’t exist yet in the current environment.\n",
    "\n",
    "<center><img src=\"https://miro.medium.com/max/700/1*2BZZhxcof1eu1INPMyny6w.png\" width=\"1000\"></center>\n",
    "\n",
    "To write and execute our code we will use Jupyter Lab, which is an evolution of Jupyter Notebook, with some additional functionalities. With the new environment selected, we should go back to Homeand click Install, just below the Jupyter Lab icon.\n",
    "\n",
    "<center><img src=\"https://miro.medium.com/max/700/1*5pGWfU63Hf_nW-NKQ5gTWw.png\" width=\"800\"</center>"
   ]
  },
  {
   "cell_type": "markdown",
   "metadata": {},
   "source": [
    "Si tiene instalado Miniconda (o tambien puede realizarse bajo el ambiente Anaconda) debe entonces dirigirse a la linea de comandos con la tecla Windows + R, o en start buscar por cmd. De click y se abrirá el command prompt. Utilice el siguiente comando para activar el ambiente\n",
    "```\n",
    "Conda activate\n",
    "```\n",
    "\n",
    "Este comando lo dirige al ambiente base. Para crear un ambiente llamado \"geo\" donde instalará sus paquetes utilice el siguiente comando:\n",
    "```\n",
    "conda create --name geo\n",
    "```\n",
    "\n",
    "En realidad puede darle el nombre al ambiente que prefiera. Para activar el ambiente creado utilice:\n",
    "```\n",
    "conda activate geo\n",
    "```\n",
    "\n",
    "Ya le debe aparecer el command prompt pero en el ambiente geo. Para instalar las librerias que desee en este utilice el comando:\n",
    "```\n",
    "conda install pandas\n",
    "```\n",
    "Then launch `Jupyter` by typing on the same terminal:\n",
    "\n",
    "```\n",
    "jupyter Lab\n",
    "```\n",
    "\n",
    "Navigate until the folder where you have placed the Notebook file and click on it. This will open the notebook on a different tab. You are now on the interactive version of the notebook!\n",
    "\n",
    "When you are finished with the session, you can save the notebook with `File -> Save Notebook`. Everything you do on the notebook (text, code and output) is saved into an `.ipynb` file that you can open later, share, etc.\n",
    "\n",
    "## Add virtual environment to Jupyter\n",
    "\n",
    "Jupyter Notebook makes sure that the IPython kernel is available, but you have to manually add a kernel with a different version of Python or a virtual environment. First, make sure your environment is activated with conda activate myenv. Next, install ipykernel which provides the IPython kernel for Jupyter:\n",
    "\n",
    "```\n",
    "pip install --user ipykernel\n",
    "```\n",
    "\n",
    "Next you can add your virtual environment to Jupyter by typing:\n",
    "\n",
    "```\n",
    "python -m ipykernel install --user --name=myenv\n",
    "```\n",
    "\n",
    "After you deleted your virtual environment, you’ll want to remove it also from Jupyter. Let’s first see which kernels are available. You can list them with:\n",
    "```\n",
    "jupyter kernelspec list\n",
    "```\n",
    "This should return kernel env in jupyter. Now, to uninstall the kernel, you can type:\n",
    "```\n",
    "jupyter kernelspec uninstall myenv\n",
    "```"
   ]
  },
  {
   "cell_type": "markdown",
   "metadata": {},
   "source": [
    "## Notebooks"
   ]
  },
  {
   "cell_type": "markdown",
   "metadata": {},
   "source": [
    "The main building block of notebooks are cells. These are chunks of the same time of content which can be cut, pasted, and moved around in a notebook. Cells can be of two types:\n",
    "\n",
    "* **Text**, like the one where this is written.\n",
    "* **Code**, like the following one below:"
   ]
  },
  {
   "cell_type": "code",
   "execution_count": 1,
   "metadata": {},
   "outputs": [],
   "source": [
    "# This is a code cell"
   ]
  },
  {
   "cell_type": "markdown",
   "metadata": {},
   "source": [
    "The notebook allows to run several commands through the \"Command Palette\", which can be found on the third tab of the left pane:\n"
   ]
  },
  {
   "cell_type": "markdown",
   "metadata": {},
   "source": [
    "For example, you can create a new cell by searching for \"Insert Cell\". By default, this will be a code cell, but you can change that on the `Cell` -> `Cell Type` menu. Choose `Markdown` for a text cell. Once a new cell is created, you can edit it by clicking on it, which will create the cursor bar inside for you to start typing.\n",
    "\n",
    "**Pro tip!**: cells can also be created with shortcuts. If you press `<escape>` and then `b` (`a`), a new cell will be created below (above). There is a whole bunch of shortcuts you can explore by pressing `<escape>` and `h` (press `<escape>` again to leave the help)."
   ]
  },
  {
   "cell_type": "markdown",
   "metadata": {},
   "source": [
    "A particularly useful feature of notebooks is that you can save, in the same place, the code you use to generate any output (tables, figures, etc.). As an example, the cell below contains a snipet of Python that returns a printed statement. This statement is then printed below and recorded in the notebook as output:"
   ]
  },
  {
   "cell_type": "code",
   "execution_count": null,
   "metadata": {},
   "outputs": [],
   "source": [
    "print(\"Hello world!!! otra vez\")\n",
    "print('otra vez')"
   ]
  },
  {
   "cell_type": "markdown",
   "metadata": {},
   "source": [
    "Note also how the notebook has automatic syntax highlighting support for Python. This makes the code much more readable and understandable. More on Python below."
   ]
  },
  {
   "cell_type": "markdown",
   "metadata": {},
   "source": [
    "### Markdown"
   ]
  },
  {
   "cell_type": "markdown",
   "metadata": {},
   "source": [
    "Text cells in a notebook use the [Github Flavored Markdown](https://help.github.com/articles/github-flavored-markdown/) markup language. This means you can write plain text with some rules and the notebook renders a more visually appealing version of it. Markdown is a popular set of rules to create rich content (e.g. headers, lists, links) from flat, plain text files without being as complex and sophisticated as other typesetting approaches. The notebook will then render markdown automatically. For more demanding or specific tasks, text cells can further integrate LATEX notation. This means we can write most forms of narrative relying on markdown, which is more straightforward, and rely on LATEX for more sophisticated parts, such as equations. Covering Markdown rules in detail is beyond the scope of this chapter, but the interested reader can inspect the [official Github specification](https://docs.github.com/en/github/writing-on-github/basic-writing-and-formatting-syntax) of the so-called Github-flavored markdown, the one adopted by the notebook.\n",
    "\n",
    "Let's see some examples:\n",
    "\n",
    "* **BOLD**:\n",
    "\n",
    "`This is **bold**.`\n",
    "\n",
    "Is rendered:\n",
    "\n",
    "This is **bold**.\n",
    "\n",
    "* **ITALIC**:\n",
    "\n",
    "`This is *italic*.`\n",
    "\n",
    "Is rendered:\n",
    "\n",
    "This is *italic*.\n",
    "\n",
    "* **LISTS**:\n",
    "\n",
    "You can create unnumbered lists:\n",
    "\n",
    "```\n",
    "* Item 1\n",
    "* Item 2\n",
    "* ...\n",
    "```\n",
    "\n",
    "Which will produce:\n",
    "\n",
    "* Item 1\n",
    "* Item 2\n",
    "* ...\n",
    "\n",
    "Or you can create numbered lists:\n",
    "\n",
    "```\n",
    "1. First element\n",
    "1. Second element\n",
    "1. ...\n",
    "```\n",
    "\n",
    "And get:\n",
    "\n",
    "1. First element\n",
    "1. Second element\n",
    "1. ...\n",
    "\n",
    "Note that you don't have to write the actual number of the element, just using `1.` always produces a numbered list.\n",
    "\n",
    "You can also nest lists:\n",
    "\n",
    "```\n",
    "* First unnumbered element, which can be split into:\n",
    "\n",
    "    1. One numbered element\n",
    "    2. Another numbered element\n",
    "\n",
    "* Second element.\n",
    "* ...\n",
    "```\n",
    "\n",
    "* First unnumbered element, which can be split into:\n",
    "\n",
    "    1. One numbered element\n",
    "    2. Another numbered element\n",
    "\n",
    "* Second element.\n",
    "* ...\n",
    "\n",
    "This creates many oportunities to combine things nicely.\n",
    "\n",
    "* **LINKS**\n",
    "\n",
    "`You can easily create hyperlinks, for example to [WikiPedia](https://www.wikipedia.org/). `\n",
    "\n",
    "You can easily create hyperlinks, for example to [WikiPedia](https://www.wikipedia.org/).\n",
    "\n",
    "* **HEADINGS**: including `#` before a line causes it to render a heading.\n",
    "\n",
    "---\n",
    "\n",
    "`# This is Header 1`\n",
    "\n",
    "Turns into:\n",
    "\n",
    "# This is Header 1\n",
    "\n",
    "---\n",
    "\n",
    "`## This is Header 2`\n",
    "\n",
    "Turns into:\n",
    "\n",
    "## This is Header 2\n",
    "\n",
    "---\n",
    "\n",
    "`### This is Header 3`\n",
    "\n",
    "Turns into:\n",
    "\n",
    "### This is Header 3\n",
    "\n",
    "And so on...\n",
    "\n",
    "---\n",
    "\n",
    "You can see a more in detail introduction in the following links:\n",
    "\n",
    "> https://guides.github.com/features/mastering-markdown/\n",
    "\n",
    "> https://help.github.com/articles/markdown-basics/\n",
    "\n",
    "> https://help.github.com/articles/github-flavored-markdown/"
   ]
  },
  {
   "cell_type": "markdown",
   "metadata": {},
   "source": [
    "### Rich content in a notebook"
   ]
  },
  {
   "cell_type": "markdown",
   "metadata": {},
   "source": [
    "Notebooks can also include rich content from the web. For that, we need to import the `display` module:"
   ]
  },
  {
   "cell_type": "code",
   "execution_count": 2,
   "metadata": {},
   "outputs": [],
   "source": [
    "import IPython.display as display"
   ]
  },
  {
   "cell_type": "markdown",
   "metadata": {},
   "source": [
    "This makes available additional functionality that allows us to embed rich content. For example, we can include a YouTube clip easily by passing it's ID:"
   ]
  },
  {
   "cell_type": "code",
   "execution_count": 7,
   "metadata": {},
   "outputs": [
    {
     "data": {
      "image/jpeg": "[encoded data removed]",
      "text/html": [
       "\n",
       "        <iframe\n",
       "            width=\"400\"\n",
       "            height=\"300\"\n",
       "            src=\"https://www.youtube.com/embed/iinQDhsdE9s\"\n",
       "            frameborder=\"0\"\n",
       "            allowfullscreen\n",
       "        ></iframe>\n",
       "        "
      ],
      "text/plain": [
       "<IPython.lib.display.YouTubeVideo at 0x7f66406380b8>"
      ]
     },
     "execution_count": 7,
     "metadata": {},
     "output_type": "execute_result"
    }
   ],
   "source": [
    "display.YouTubeVideo('iinQDhsdE9s')"
   ]
  },
  {
   "cell_type": "markdown",
   "metadata": {},
   "source": [
    "Or we can pass standard HTML code:"
   ]
  },
  {
   "cell_type": "code",
   "execution_count": 8,
   "metadata": {},
   "outputs": [
    {
     "data": {
      "text/html": [
       "<table>\n",
       "<tr>\n",
       "<th>Header 1</th>\n",
       "<th>Header 2</th>\n",
       "</tr>\n",
       "<tr>\n",
       "<td>row 1, cell 1</td>\n",
       "<td>row 1, cell 2</td>\n",
       "</tr>\n",
       "<tr>\n",
       "<td>row 2, cell 1</td>\n",
       "<td>row 2, cell 2</td>\n",
       "</tr>\n",
       "</table>"
      ],
      "text/plain": [
       "<IPython.core.display.HTML object>"
      ]
     },
     "execution_count": 8,
     "metadata": {},
     "output_type": "execute_result"
    }
   ],
   "source": [
    "display.HTML(\"\"\"<table>\n",
    "<tr>\n",
    "<th>Header 1</th>\n",
    "<th>Header 2</th>\n",
    "</tr>\n",
    "<tr>\n",
    "<td>row 1, cell 1</td>\n",
    "<td>row 1, cell 2</td>\n",
    "</tr>\n",
    "<tr>\n",
    "<td>row 2, cell 1</td>\n",
    "<td>row 2, cell 2</td>\n",
    "</tr>\n",
    "</table>\"\"\")"
   ]
  },
  {
   "cell_type": "markdown",
   "metadata": {},
   "source": [
    "Note that this opens the door for including a large number of elements from the web, as an `iframe` is also allowed. For example, interactive maps can be included:"
   ]
  },
  {
   "cell_type": "code",
   "execution_count": 3,
   "metadata": {},
   "outputs": [
    {
     "data": {
      "text/html": [
       "\n",
       "<iframe width=\"425\" height=\"350\" frameborder=\"0\" scrolling=\"no\" marginheight=\"0\" marginwidth=\"0\" src=\"http://www.openstreetmap.org/export/embed.html?bbox=-2.9662737250328064%2C53.400500637844594%2C-2.964626848697662%2C53.402550738394034&amp;layer=mapnik\" style=\"border: 1px solid black\"></iframe><br/><small><a href=\"http://www.openstreetmap.org/#map=19/53.40153/-2.96545\">View Larger Map</a></small>\n"
      ],
      "text/plain": [
       "<IPython.core.display.HTML object>"
      ]
     },
     "execution_count": 3,
     "metadata": {},
     "output_type": "execute_result"
    }
   ],
   "source": [
    "osm = \"\"\"\n",
    "<iframe width=\"425\" height=\"350\" frameborder=\"0\" scrolling=\"no\" marginheight=\"0\" marginwidth=\"0\" src=\"http://www.openstreetmap.org/export/embed.html?bbox=-2.9662737250328064%2C53.400500637844594%2C-2.964626848697662%2C53.402550738394034&amp;layer=mapnik\" style=\"border: 1px solid black\"></iframe><br/><small><a href=\"http://www.openstreetmap.org/#map=19/53.40153/-2.96545\">View Larger Map</a></small>\n",
    "\"\"\"\n",
    "display.HTML(osm)"
   ]
  },
  {
   "cell_type": "markdown",
   "metadata": {},
   "source": [
    "Or sound content:"
   ]
  },
  {
   "cell_type": "code",
   "execution_count": 3,
   "metadata": {},
   "outputs": [
    {
     "data": {
      "text/html": [
       "\n",
       "<iframe width=\"100%\" height=\"300\" scrolling=\"no\" frameborder=\"no\" allow=\"autoplay\" src=\"https://w.soundcloud.com/player/?url=https%3A//api.soundcloud.com/tracks/327114763&color=%23ff5500&auto_play=false&hide_related=false&show_comments=true&show_user=true&show_reposts=false&show_teaser=true&visual=true\"></iframe>"
      ],
      "text/plain": [
       "<IPython.core.display.HTML object>"
      ]
     },
     "execution_count": 3,
     "metadata": {},
     "output_type": "execute_result"
    }
   ],
   "source": [
    "sound = '''\n",
    "<iframe width=\"100%\" height=\"300\" scrolling=\"no\" frameborder=\"no\" allow=\"autoplay\" src=\"https://w.soundcloud.com/player/?url=https%3A//api.soundcloud.com/tracks/327114763&color=%23ff5500&auto_play=false&hide_related=false&show_comments=true&show_user=true&show_reposts=false&show_teaser=true&visual=true\"></iframe>'''\n",
    "display.HTML(sound)"
   ]
  },
  {
   "cell_type": "markdown",
   "metadata": {},
   "source": [
    "## Docker container\n",
    "\n",
    "Containers are a lightweight version of a virtual machine, which is a program that enables an entire operating system to run compartimentalised on top of another operating system. Containers allow to encapsulate an entire environment (or platform) in a format that is easy to transfer and reproduce in a variety of computational contexts. The most popular technology for containers nowadays is Docker, and the opportunities that it provides to build transparent and transferrable infrastructure for data science are starting to be explored.\n",
    "\n",
    "<center><img src=\"https://miro.medium.com/max/2400/1*JUOITpaBdlrMP9D__-K5Fw.png\" width=\"1000\"></center>\n",
    "\n",
    "Docker allows us to create a \"container\" that includes all the tools required to access the content of the book interactively. But, what exactly is a container? There are several ways to describe it, from very technical to more intuitive ones. In this context, we will focus on a general understanding rather than on the technical details behind its magic. One can think of a container as, well, a \"box\" that includes everything that is required to run a certain set of software. This box can be moved around, from machine to machine, and the computations it executes will remain exactly the same. In fact, the content of the box remains exactly the same, bit by bit. When we download a container into a computer, be it a laptop or a data center, we are not performing an install of the software it contains from the usual channels, for the platform on which we are going to run it on. Instead, we are downloading the software in the form that was installed when the container was originally built and packaged, and for the operating system that was also packaged originally. This is the real advantage: build once, run everywhere. For the experienced reader, this might sound very much like their older syster: virtual machines. Although there are similarities between both technologies, containers are more lightweight and can be run much more swiftly than virtual machines. This box that is isolated interacts with the rest of the computer through several links that connect the two. In the case of this book, since JupyterLab is a client-server application, the server runs inside the container and we connect to it through two main \"doors\": one, through the browser, we will access the main Lab interface; and two, we will \"mount\" a folder inside the container so we can use software inside the container to edit files that are stored outside in the host machine.\n",
    "\n",
    "<center><img src=\"https://www.saagie.com/wp-content/uploads/2019/07/2-1024x251.png\" width=\"1000\"></center>\n",
    "\n",
    "This is the recommended approach if you meet the following requirements:\n",
    "\n",
    "- [x] You have admin rights over your machine\n",
    "- [x] You are running either Windows 10 Pro, macOS, or Linux\n",
    "\n",
    "In that case, Docker is the preferred alternative. It provides a stable platform to run complex software setups like that required in this context. Docker is a containerisation technology that allows to run pre-packaged (containerised) software under controlled environments. Relying on [Docker](https://github.com/darribas/gds_env), the gds_env project provides a containerised platform for Geographic Data Science.\n",
    "\n",
    "The steps to install this (given you meet the requirements above) include:\n",
    "\n",
    "- Obtain a copy of Docker and install it:\n",
    "    - Windows10 Pro/Enterprise: Install Docker Desktop for Windows\n",
    "    - macOS: Get started with Docker Desktop for Mac\n",
    "- Open a terminal or shell. How to do this will depend on your operating system:\n",
    "\n",
    "    - Windows: we recommend PowerShell. Type \"PowerShell\" on the startup menu and, when it comes up, hit enter. This will open a terminal for you.\n",
    "    - macOS: use the Teminal.app. You can find it on the Applications folder, within the Utilities subfolder.\n",
    "    - Linux: if you are running Linux, you probably already have a terminal application of preference. Almost any Linux distribution comes with a terminal or shell app built in.\n",
    "    \n",
    "Download, or \"pull\", our [container](https://hub.docker.com/r/darribas/gds/). For this run on the terminal the following command:\n",
    "\n",
    "<center><img src=\"https://geekflare.com/wp-content/uploads/2020/04/docker-hub-repo.png\" width=\"1000\"></center>\n",
    "\n",
    "```\n",
    "  docker pull darribas/gds:3.0\n",
    "```\n",
    "\n",
    "- Once the command above has finished installing your GDS stack, you are ready to go! To get a Jupyter session started, you can follow these steps:\n",
    "     - Run on the same terminal as above the following command:\n",
    "\n",
    "```\n",
    " docker run --rm -ti -p 8888:8888 -v {PWD}:/home/jovyan/work darribas/gds:3.0\n",
    "```\n",
    "- docker run: Docker does a lot of things, to communicate that we want to run a new container, we need specify it.\n",
    "- --rm: this flag will ensure the container is removed when you close it. This in turn makes sure every time you run it again, you start afresh with the exact same set up.\n",
    "- ti: this flag further ensures that the container is not run in the background but in an _i_nteractive mode.\n",
    "- p 8888:8888: with this, we ensure we forward the port from inside the container out to the host machine (i.e. your laptop). This step is crucial because it allows us to interact with the server and for Jupyter to \"send\" JupyterLab across so we can access it in our web browser.\n",
    "- v {PWD}:/home/jovyan/work: similarly, this flag \"mounts\" the folder from where the command is being run in the terminal ({PWD}) into the container so it is visible and editable from inside the container. Such folder will be available at the container's work folder.\n",
    "- gdsbook/stack: finally, we also need to specify which image we want to run. In this case, we run the image created for this book.\n",
    "\n",
    "This will start a Python session, please do not quite the window until you are done using Python!\n",
    "\n",
    "    - Open your favorite browser (preferably Firefox or Chrome) and point it to localhost:8888\n",
    "    - You will be asked for a password or a token. To access the lab, copy the token from the terminal (in the example above, that would be ae7e8017f3e97658a218ec2c2d1fbcc894f09d80f6b5f79c), enter it on the box and click on \"Log in\". Now you are in!\n",
    "\n"
   ]
  },
  {
   "cell_type": "markdown",
   "metadata": {},
   "source": [
    "## Intro to Python"
   ]
  },
  {
   "cell_type": "markdown",
   "metadata": {},
   "source": [
    "The standard Python language includes some data structures (e.g. lists, dictionaries, etc. See below) and allows many basic operations (e.g. sum, product, etc.). For example, right out of the box, and without any further action needed, you can use Python as a calculator:"
   ]
  },
  {
   "cell_type": "code",
   "execution_count": 12,
   "metadata": {},
   "outputs": [
    {
     "data": {
      "text/plain": [
       "8"
      ]
     },
     "execution_count": 12,
     "metadata": {},
     "output_type": "execute_result"
    }
   ],
   "source": [
    "3 + 5"
   ]
  },
  {
   "cell_type": "code",
   "execution_count": null,
   "metadata": {},
   "outputs": [
    {
     "ename": "",
     "evalue": "",
     "output_type": "error",
     "traceback": [
      "\u001b[1;31mRunning cells with 'Python 3.9.0 64-bit' requires ipykernel package.\n",
      "\u001b[1;31mRun the following command to install 'ipykernel' into the Python environment. \n",
      "\u001b[1;31mCommand: 'c:/Python39/python.exe -m pip install ipykernel -U --user --force-reinstall'"
     ]
    }
   ],
   "source": [
    "2. / 3"
   ]
  },
  {
   "cell_type": "code",
   "execution_count": 14,
   "metadata": {},
   "outputs": [
    {
     "data": {
      "text/plain": [
       "5.333333333333333"
      ]
     },
     "execution_count": 14,
     "metadata": {},
     "output_type": "execute_result"
    }
   ],
   "source": [
    "(3 + 5) * 2. / 3"
   ]
  },
  {
   "cell_type": "markdown",
   "metadata": {},
   "source": [
    "However, the strength of Python as a data analysis tool comes from the extensions provided separately that add functionality and provide access to much more sophisticated data structures and functions. These come in the form of packages, or libraries, that once installed need to be imported into a session.\n",
    "\n",
    "In this course, we will be using many of the core libraries of what has been called the \"PyData stack\", the set of libraries that make Python a full-fledge system for Data Science. We will introduce them gradually as we need them for particular tasks but, for now, let us have a look at the foundational library, [numpy](http://www.numpy.org/) (short for numerical Python). Importing it involves the following line of code:"
   ]
  },
  {
   "cell_type": "code",
   "execution_count": 1,
   "metadata": {},
   "outputs": [],
   "source": [
    "import numpy as np # we rename it in the session as `np` by convention"
   ]
  },
  {
   "cell_type": "markdown",
   "metadata": {},
   "source": [
    "Note how we import it *and* rename it in the session, from `numpy` to `np`, which is shorter and more convenient.\n",
    "\n",
    "Note also how comments work in Python: everything in a line *after* the `#` sign is ignored by Python when it evaluates the code. This allows you to insert comments that Python will ignore but that can help you and others better understand the code."
   ]
  },
  {
   "cell_type": "markdown",
   "metadata": {},
   "source": [
    "Once imports are out of the way, let us start exploring what we can do with `numpy`. One of the easiest tasks is to create a sequence of numbers:"
   ]
  },
  {
   "cell_type": "code",
   "execution_count": 16,
   "metadata": {},
   "outputs": [
    {
     "data": {
      "text/plain": [
       "array([0, 1, 2, 3, 4, 5, 6, 7, 8, 9])"
      ]
     },
     "execution_count": 16,
     "metadata": {},
     "output_type": "execute_result"
    }
   ],
   "source": [
    "seq = np.arange(10)\n",
    "seq"
   ]
  },
  {
   "cell_type": "markdown",
   "metadata": {},
   "source": [
    "The first thing to note is that, in line 1, we create the sequence by calling the function `arange` and assign it to an object called `seq` (it could have been called anything else, pick your favorite) and, in line 2, we have it printed as the output of the cell.\n",
    "\n",
    "Another interesting feature is how, since we are calling a `numpy` function called `arange` by adding `np.` in front. This is to note that the function comes explicitly from `numpy`. To find out how necessary this is, you can try generating the sequence without `np`:"
   ]
  },
  {
   "cell_type": "code",
   "execution_count": 17,
   "metadata": {},
   "outputs": [],
   "source": [
    "# NOTE: comment out to run the cell\n",
    "#seq = arange(10)"
   ]
  },
  {
   "cell_type": "markdown",
   "metadata": {},
   "source": [
    "What you get instead is an error, also called a \"traceback\". In particular, Python is telling that it cannot find a function named `arange` in the core library. This is because that particular function is only available in `numpy`."
   ]
  },
  {
   "cell_type": "markdown",
   "metadata": {},
   "source": [
    "### Variables"
   ]
  },
  {
   "cell_type": "markdown",
   "metadata": {},
   "source": [
    "A basic feature of Python is the ability to assign a name to different \"things\", or objects. These can also be called sometimes \"variables\". We have already seen that in the example above but, let us make it more explicit. For example, an object can be a single number:"
   ]
  },
  {
   "cell_type": "code",
   "execution_count": 18,
   "metadata": {},
   "outputs": [],
   "source": [
    "a = 3"
   ]
  },
  {
   "cell_type": "markdown",
   "metadata": {},
   "source": [
    "Or a name, also called \"string\":"
   ]
  },
  {
   "cell_type": "code",
   "execution_count": 19,
   "metadata": {},
   "outputs": [],
   "source": [
    "b = 'Hello World'"
   ]
  },
  {
   "cell_type": "markdown",
   "metadata": {},
   "source": [
    "You can check what type an object is also easily:"
   ]
  },
  {
   "cell_type": "code",
   "execution_count": 20,
   "metadata": {},
   "outputs": [
    {
     "data": {
      "text/plain": [
       "int"
      ]
     },
     "execution_count": 20,
     "metadata": {},
     "output_type": "execute_result"
    }
   ],
   "source": [
    "type(a)"
   ]
  },
  {
   "cell_type": "markdown",
   "metadata": {},
   "source": [
    "`int` is short for \"integer\" which, roughly speaking, means an whole number. If you want to save a number with decimals, you will be using floats:"
   ]
  },
  {
   "cell_type": "code",
   "execution_count": 21,
   "metadata": {},
   "outputs": [
    {
     "data": {
      "text/plain": [
       "float"
      ]
     },
     "execution_count": 21,
     "metadata": {},
     "output_type": "execute_result"
    }
   ],
   "source": [
    "c = 1.5\n",
    "type(c)"
   ]
  },
  {
   "cell_type": "markdown",
   "metadata": {},
   "source": [
    "As mentioned, what we understand as letters in a wide sense (spaces and other signs count too) is called \"strings\" (`str` in short):"
   ]
  },
  {
   "cell_type": "code",
   "execution_count": 22,
   "metadata": {},
   "outputs": [
    {
     "data": {
      "text/plain": [
       "str"
      ]
     },
     "execution_count": 22,
     "metadata": {},
     "output_type": "execute_result"
    }
   ],
   "source": [
    "type(b)"
   ]
  },
  {
   "cell_type": "markdown",
   "metadata": {},
   "source": [
    "### Help"
   ]
  },
  {
   "cell_type": "markdown",
   "metadata": {},
   "source": [
    "A very handy feature of Python is the ability to access on-the-spot help for its different functions. This means that you can check what a function is supposed to do, or how to access it, right inside your Python session. Of course, this also works handsomely inside a notebook. There are a couple of ways to access the help. \n",
    "\n",
    "Take the `numpy` function `arange` that we have used above. The easiest way to check interactively how to use it is by:"
   ]
  },
  {
   "cell_type": "code",
   "execution_count": 23,
   "metadata": {},
   "outputs": [
    {
     "data": {
      "text/plain": [
       "\u001b[0;31mDocstring:\u001b[0m\n",
       "arange([start,] stop[, step,], dtype=None)\n",
       "\n",
       "Return evenly spaced values within a given interval.\n",
       "\n",
       "Values are generated within the half-open interval ``[start, stop)``\n",
       "(in other words, the interval including `start` but excluding `stop`).\n",
       "For integer arguments the function is equivalent to the Python built-in\n",
       "`range` function, but returns an ndarray rather than a list.\n",
       "\n",
       "When using a non-integer step, such as 0.1, the results will often not\n",
       "be consistent.  It is better to use `numpy.linspace` for these cases.\n",
       "\n",
       "Parameters\n",
       "----------\n",
       "start : number, optional\n",
       "    Start of interval.  The interval includes this value.  The default\n",
       "    start value is 0.\n",
       "stop : number\n",
       "    End of interval.  The interval does not include this value, except\n",
       "    in some cases where `step` is not an integer and floating point\n",
       "    round-off affects the length of `out`.\n",
       "step : number, optional\n",
       "    Spacing between values.  For any output `out`, this is the distance\n",
       "    between two adjacent values, ``out[i+1] - out[i]``.  The default\n",
       "    step size is 1.  If `step` is specified as a position argument,\n",
       "    `start` must also be given.\n",
       "dtype : dtype\n",
       "    The type of the output array.  If `dtype` is not given, infer the data\n",
       "    type from the other input arguments.\n",
       "\n",
       "Returns\n",
       "-------\n",
       "arange : ndarray\n",
       "    Array of evenly spaced values.\n",
       "\n",
       "    For floating point arguments, the length of the result is\n",
       "    ``ceil((stop - start)/step)``.  Because of floating point overflow,\n",
       "    this rule may result in the last element of `out` being greater\n",
       "    than `stop`.\n",
       "\n",
       "See Also\n",
       "--------\n",
       "linspace : Evenly spaced numbers with careful handling of endpoints.\n",
       "ogrid: Arrays of evenly spaced numbers in N-dimensions.\n",
       "mgrid: Grid-shaped arrays of evenly spaced numbers in N-dimensions.\n",
       "\n",
       "Examples\n",
       "--------\n",
       ">>> np.arange(3)\n",
       "array([0, 1, 2])\n",
       ">>> np.arange(3.0)\n",
       "array([ 0.,  1.,  2.])\n",
       ">>> np.arange(3,7)\n",
       "array([3, 4, 5, 6])\n",
       ">>> np.arange(3,7,2)\n",
       "array([3, 5])\n",
       "\u001b[0;31mType:\u001b[0m      builtin_function_or_method\n"
      ]
     },
     "metadata": {},
     "output_type": "display_data"
    }
   ],
   "source": [
    "np.arange?"
   ]
  },
  {
   "cell_type": "markdown",
   "metadata": {},
   "source": [
    "As you can see, this brings up a sub-window in the browser with all the information you need.\n",
    "\n",
    "If, for whatever reason, you needed to print that info into the notebook itself, you can do the following:"
   ]
  },
  {
   "cell_type": "code",
   "execution_count": 24,
   "metadata": {},
   "outputs": [
    {
     "name": "stdout",
     "output_type": "stream",
     "text": [
      "Help on built-in function arange in module numpy:\n",
      "\n",
      "arange(...)\n",
      "    arange([start,] stop[, step,], dtype=None)\n",
      "    \n",
      "    Return evenly spaced values within a given interval.\n",
      "    \n",
      "    Values are generated within the half-open interval ``[start, stop)``\n",
      "    (in other words, the interval including `start` but excluding `stop`).\n",
      "    For integer arguments the function is equivalent to the Python built-in\n",
      "    `range` function, but returns an ndarray rather than a list.\n",
      "    \n",
      "    When using a non-integer step, such as 0.1, the results will often not\n",
      "    be consistent.  It is better to use `numpy.linspace` for these cases.\n",
      "    \n",
      "    Parameters\n",
      "    ----------\n",
      "    start : number, optional\n",
      "        Start of interval.  The interval includes this value.  The default\n",
      "        start value is 0.\n",
      "    stop : number\n",
      "        End of interval.  The interval does not include this value, except\n",
      "        in some cases where `step` is not an integer and floating point\n",
      "        round-off affects the length of `out`.\n",
      "    step : number, optional\n",
      "        Spacing between values.  For any output `out`, this is the distance\n",
      "        between two adjacent values, ``out[i+1] - out[i]``.  The default\n",
      "        step size is 1.  If `step` is specified as a position argument,\n",
      "        `start` must also be given.\n",
      "    dtype : dtype\n",
      "        The type of the output array.  If `dtype` is not given, infer the data\n",
      "        type from the other input arguments.\n",
      "    \n",
      "    Returns\n",
      "    -------\n",
      "    arange : ndarray\n",
      "        Array of evenly spaced values.\n",
      "    \n",
      "        For floating point arguments, the length of the result is\n",
      "        ``ceil((stop - start)/step)``.  Because of floating point overflow,\n",
      "        this rule may result in the last element of `out` being greater\n",
      "        than `stop`.\n",
      "    \n",
      "    See Also\n",
      "    --------\n",
      "    linspace : Evenly spaced numbers with careful handling of endpoints.\n",
      "    ogrid: Arrays of evenly spaced numbers in N-dimensions.\n",
      "    mgrid: Grid-shaped arrays of evenly spaced numbers in N-dimensions.\n",
      "    \n",
      "    Examples\n",
      "    --------\n",
      "    >>> np.arange(3)\n",
      "    array([0, 1, 2])\n",
      "    >>> np.arange(3.0)\n",
      "    array([ 0.,  1.,  2.])\n",
      "    >>> np.arange(3,7)\n",
      "    array([3, 4, 5, 6])\n",
      "    >>> np.arange(3,7,2)\n",
      "    array([3, 5])\n",
      "\n"
     ]
    }
   ],
   "source": [
    "help(np.arange)"
   ]
  },
  {
   "cell_type": "markdown",
   "metadata": {},
   "source": [
    "### Control flow (a.k.a. `for` loops and `if` statements)"
   ]
  },
  {
   "cell_type": "markdown",
   "metadata": {},
   "source": [
    "Although this does not intend to be a comprehensive introduction to computer programming or general purpose Python (check the references for that, in particular Allen Downey's [book](http://www.greenteapress.com/thinkpython/thinkpython.html)), it is important to be aware of two building blocks of almost any computer program: `for` loops and `if` statements. It is possible that you will never require them for this course, as all that is used here is based on existing methods and functions, but it is always useful to know they exist and to be able to recognize them. They can also come in very handy in cases where you some extra functionality out of standard methods. Without further ado, let us have a look and the two single most relevant tools of computer programming."
   ]
  },
  {
   "cell_type": "markdown",
   "metadata": {},
   "source": [
    "* `for` loops\n",
    "\n",
    "These allow  you to repeat a particular action or task over a sequence. As an example, you can print your name ten times without having to type it yourself every single time:"
   ]
  },
  {
   "cell_type": "code",
   "execution_count": 3,
   "metadata": {},
   "outputs": [
    {
     "name": "stdout",
     "output_type": "stream",
     "text": [
      "my name\n",
      "my name\n",
      "my name\n",
      "my name\n",
      "my name\n",
      "my name\n",
      "my name\n",
      "my name\n",
      "my name\n",
      "my name\n"
     ]
    }
   ],
   "source": [
    "for i in np.arange(10):\n",
    "    print('my name')"
   ]
  },
  {
   "cell_type": "markdown",
   "metadata": {},
   "source": [
    "Note a couple of features in the loop:\n",
    "\n",
    "1. You loop *over* a sequence, in this particular case the sequence of ten numbers created by `np.arange(10)`.\n",
    "1. In every step, for every element of the sequence in this case, you repeat an action. Here we are printing the same text, `my name`.\n",
    "1. Although not used in this loop, each of the elements you loop over can be accessed inside the loop. This can be irrelevant, as in the loop above, or extremely useful, it depends on the context. For example, see a case where you use the value of the sequence in each step:"
   ]
  },
  {
   "cell_type": "code",
   "execution_count": 26,
   "metadata": {},
   "outputs": [
    {
     "name": "stdout",
     "output_type": "stream",
     "text": [
      "I am at step  0\n",
      "I am at step  1\n",
      "I am at step  2\n",
      "I am at step  3\n",
      "I am at step  4\n",
      "I am at step  5\n",
      "I am at step  6\n",
      "I am at step  7\n",
      "I am at step  8\n",
      "I am at step  9\n"
     ]
    }
   ],
   "source": [
    "for i in np.arange(10):\n",
    "    print(\"I am at step \", i)"
   ]
  },
  {
   "cell_type": "markdown",
   "metadata": {},
   "source": [
    "One more note: for convention, we are calling the element of the sequence `i`, but this could be named anything. In fact, in many cases, more meaningful names make code much more readable. For example, you could think of a re-write of the loop above as:"
   ]
  },
  {
   "cell_type": "code",
   "execution_count": 27,
   "metadata": {},
   "outputs": [
    {
     "name": "stdout",
     "output_type": "stream",
     "text": [
      "I am at step  0\n",
      "I am at step  1\n",
      "I am at step  2\n",
      "I am at step  3\n",
      "I am at step  4\n",
      "I am at step  5\n",
      "I am at step  6\n",
      "I am at step  7\n",
      "I am at step  8\n",
      "I am at step  9\n"
     ]
    }
   ],
   "source": [
    "for step in np.arange(10):\n",
    "    print(\"I am at step \", step)"
   ]
  },
  {
   "cell_type": "markdown",
   "metadata": {},
   "source": [
    "* `if` statements\n",
    "\n",
    "We have just seen how `for` loops allow you to repeat an action over a sequence. In the case of `if` statements, these allow you to select or restrict such actions to only those cases that meet a condition(s) you specify in the statement.\n",
    "\n",
    "For example, if you think of the loops written above, you might want to only print those that are odd, skipping those that are even:"
   ]
  },
  {
   "cell_type": "code",
   "execution_count": 28,
   "metadata": {},
   "outputs": [
    {
     "name": "stdout",
     "output_type": "stream",
     "text": [
      "1\n",
      "3\n",
      "5\n",
      "7\n",
      "9\n"
     ]
    }
   ],
   "source": [
    "for i in np.arange(10):\n",
    "    if i%2:\n",
    "        print(i)"
   ]
  },
  {
   "cell_type": "markdown",
   "metadata": {},
   "source": [
    "Ignore for the moment the part `i%2`, just remember this is one way Python has to check if a number is odd. The important bit in this loop, as compared to the less complex one above, is that we are using an `if` statement to select only those candidates that meet the condition. In other words, what we are doing it looping over every number in the sequence from zero to nine (`for i in np.arange(10)`) and checking if they are even or odd (`if i%2`). If they meet the condition, they are odd, then we proceed and print them on the screen."
   ]
  },
  {
   "cell_type": "markdown",
   "metadata": {},
   "source": [
    "A full `if` statement also allows for an action to be taken if the original condition is not satisfied. This is called an \"ifelse\" statement. For example, you can think of a loop that prints the type of each number in a sequence:"
   ]
  },
  {
   "cell_type": "code",
   "execution_count": 29,
   "metadata": {},
   "outputs": [
    {
     "name": "stdout",
     "output_type": "stream",
     "text": [
      "0  is even\n",
      "1  is odd\n",
      "2  is even\n",
      "3  is odd\n",
      "4  is even\n",
      "5  is odd\n",
      "6  is even\n",
      "7  is odd\n",
      "8  is even\n",
      "9  is odd\n"
     ]
    }
   ],
   "source": [
    "for i in np.arange(10):\n",
    "    # Check if it is odd\n",
    "    if i%2:\n",
    "        print(i, ' is odd')\n",
    "    # If not odd (even), then do the following\n",
    "    else:\n",
    "        print(i, ' is even')"
   ]
  },
  {
   "cell_type": "markdown",
   "metadata": {},
   "source": [
    "### Data structures"
   ]
  },
  {
   "cell_type": "markdown",
   "metadata": {},
   "source": [
    "The standard python you can access without importing any additional libraries contains a few core data structures that is very handy to know. Most of data analysis is done on top of other structures specifically designed for the purpose (numpy arrays and pandas dataframes, mostly. See the following sessions for more details), but some understanding of these core Python structures is very useful. In this context, we will look at three: values, lists, and dictionaries."
   ]
  },
  {
   "cell_type": "markdown",
   "metadata": {},
   "source": [
    "* **Values**: these are the most basic elements to organize data and information in Python. You can think of them as numbers (integers or floats) or words (strings). Typically, these are the elements that will be stored in lists and dictionaries.\n",
    "\n",
    "An integer is a whole number:"
   ]
  },
  {
   "cell_type": "code",
   "execution_count": 30,
   "metadata": {},
   "outputs": [
    {
     "data": {
      "text/plain": [
       "int"
      ]
     },
     "execution_count": 30,
     "metadata": {},
     "output_type": "execute_result"
    }
   ],
   "source": [
    "i = 5\n",
    "type(i)"
   ]
  },
  {
   "cell_type": "markdown",
   "metadata": {},
   "source": [
    "A float is a number that allows for decimals:"
   ]
  },
  {
   "cell_type": "code",
   "execution_count": 31,
   "metadata": {},
   "outputs": [
    {
     "data": {
      "text/plain": [
       "float"
      ]
     },
     "execution_count": 31,
     "metadata": {},
     "output_type": "execute_result"
    }
   ],
   "source": [
    "f = 5.2\n",
    "type(f)"
   ]
  },
  {
   "cell_type": "markdown",
   "metadata": {},
   "source": [
    "Note that a float can also not have decimals and still be stored as such:"
   ]
  },
  {
   "cell_type": "code",
   "execution_count": 32,
   "metadata": {},
   "outputs": [
    {
     "data": {
      "text/plain": [
       "float"
      ]
     },
     "execution_count": 32,
     "metadata": {},
     "output_type": "execute_result"
    }
   ],
   "source": [
    "fw = 5.\n",
    "type(fw)"
   ]
  },
  {
   "cell_type": "markdown",
   "metadata": {},
   "source": [
    "However, they are different representations:"
   ]
  },
  {
   "cell_type": "code",
   "execution_count": 33,
   "metadata": {},
   "outputs": [
    {
     "data": {
      "text/plain": [
       "False"
      ]
     },
     "execution_count": 33,
     "metadata": {},
     "output_type": "execute_result"
    }
   ],
   "source": [
    "f == fw"
   ]
  },
  {
   "cell_type": "markdown",
   "metadata": {},
   "source": [
    "* **Lists**: a list is an ordered sequence of values that can be of mixed types. They are represented between squared brackets (`[]`) and, although not very efficient in memory terms, are very flexible and useful to \"put things together\".\n",
    "\n",
    "For example, the following list of integers:"
   ]
  },
  {
   "cell_type": "code",
   "execution_count": 34,
   "metadata": {},
   "outputs": [
    {
     "data": {
      "text/plain": [
       "[1, 2, 3, 4, 5]"
      ]
     },
     "execution_count": 34,
     "metadata": {},
     "output_type": "execute_result"
    }
   ],
   "source": [
    "l = [1, 2, 3, 4, 5]\n",
    "l"
   ]
  },
  {
   "cell_type": "code",
   "execution_count": 35,
   "metadata": {},
   "outputs": [
    {
     "data": {
      "text/plain": [
       "list"
      ]
     },
     "execution_count": 35,
     "metadata": {},
     "output_type": "execute_result"
    }
   ],
   "source": [
    "type(l)"
   ]
  },
  {
   "cell_type": "markdown",
   "metadata": {},
   "source": [
    "Or the following mixed one:"
   ]
  },
  {
   "cell_type": "code",
   "execution_count": 36,
   "metadata": {},
   "outputs": [
    {
     "data": {
      "text/plain": [
       "['a', 'b', 5, 'c', 6, 7]"
      ]
     },
     "execution_count": 36,
     "metadata": {},
     "output_type": "execute_result"
    }
   ],
   "source": [
    "m = ['a', 'b', 5, 'c', 6, 7]\n",
    "m"
   ]
  },
  {
   "cell_type": "markdown",
   "metadata": {},
   "source": [
    "Lists can be queried and sliced. For example, the first element can be retrieved by:"
   ]
  },
  {
   "cell_type": "code",
   "execution_count": 37,
   "metadata": {},
   "outputs": [
    {
     "data": {
      "text/plain": [
       "1"
      ]
     },
     "execution_count": 37,
     "metadata": {},
     "output_type": "execute_result"
    }
   ],
   "source": [
    "l[0]"
   ]
  },
  {
   "cell_type": "markdown",
   "metadata": {},
   "source": [
    "Or the second to the fourth:"
   ]
  },
  {
   "cell_type": "code",
   "execution_count": 38,
   "metadata": {},
   "outputs": [
    {
     "data": {
      "text/plain": [
       "['b', 5, 'c']"
      ]
     },
     "execution_count": 38,
     "metadata": {},
     "output_type": "execute_result"
    }
   ],
   "source": [
    "m[1:4]"
   ]
  },
  {
   "cell_type": "markdown",
   "metadata": {},
   "source": [
    "Lists can be added:"
   ]
  },
  {
   "cell_type": "code",
   "execution_count": 39,
   "metadata": {},
   "outputs": [
    {
     "data": {
      "text/plain": [
       "[1, 2, 3, 4, 5, 'a', 'b', 5, 'c', 6, 7]"
      ]
     },
     "execution_count": 39,
     "metadata": {},
     "output_type": "execute_result"
    }
   ],
   "source": [
    "l + m"
   ]
  },
  {
   "cell_type": "markdown",
   "metadata": {},
   "source": [
    "New elements added:"
   ]
  },
  {
   "cell_type": "code",
   "execution_count": 40,
   "metadata": {},
   "outputs": [
    {
     "data": {
      "text/plain": [
       "[1, 2, 3, 4, 5, 4]"
      ]
     },
     "execution_count": 40,
     "metadata": {},
     "output_type": "execute_result"
    }
   ],
   "source": [
    "l.append(4)\n",
    "l"
   ]
  },
  {
   "cell_type": "markdown",
   "metadata": {},
   "source": [
    "Or modified:"
   ]
  },
  {
   "cell_type": "code",
   "execution_count": 41,
   "metadata": {},
   "outputs": [
    {
     "data": {
      "text/plain": [
       "2"
      ]
     },
     "execution_count": 41,
     "metadata": {},
     "output_type": "execute_result"
    }
   ],
   "source": [
    "l[1]"
   ]
  },
  {
   "cell_type": "code",
   "execution_count": 42,
   "metadata": {},
   "outputs": [
    {
     "data": {
      "text/plain": [
       "'two'"
      ]
     },
     "execution_count": 42,
     "metadata": {},
     "output_type": "execute_result"
    }
   ],
   "source": [
    "l[1] = 'two'\n",
    "l[1]"
   ]
  },
  {
   "cell_type": "code",
   "execution_count": 43,
   "metadata": {},
   "outputs": [
    {
     "data": {
      "text/plain": [
       "[1, 'two', 3, 4, 5, 4]"
      ]
     },
     "execution_count": 43,
     "metadata": {},
     "output_type": "execute_result"
    }
   ],
   "source": [
    "l"
   ]
  },
  {
   "cell_type": "markdown",
   "metadata": {},
   "source": [
    "* **Dictionaries**: dictionaries are unordered collections of \"keys\" and \"values\". A key, which can be of any kind, is the element associated with a \"value\", which can also be of any kind. Dictionaries are used when order is not important but you need fast and convenient lookup. They are expressed in curly brackets, with keys and values being linked through columns.\n",
    "\n",
    "For example, we can think of a dictionary to store a series of names and the ages of the people they represent:"
   ]
  },
  {
   "cell_type": "code",
   "execution_count": 44,
   "metadata": {},
   "outputs": [
    {
     "data": {
      "text/plain": [
       "{'Ana': 24, 'John': 20, 'Li': 27, 'Ivan': 40, 'Tali': 33}"
      ]
     },
     "execution_count": 44,
     "metadata": {},
     "output_type": "execute_result"
    }
   ],
   "source": [
    "ages = {'Ana': 24, 'John': 20, 'Li': 27, 'Ivan': 40, 'Tali':33}\n",
    "ages"
   ]
  },
  {
   "cell_type": "code",
   "execution_count": 45,
   "metadata": {},
   "outputs": [
    {
     "data": {
      "text/plain": [
       "dict"
      ]
     },
     "execution_count": 45,
     "metadata": {},
     "output_type": "execute_result"
    }
   ],
   "source": [
    "type(ages)"
   ]
  },
  {
   "cell_type": "markdown",
   "metadata": {},
   "source": [
    "Dictionaries can then be queried and values retrieved easily by using their keys. For example, if we quickly want to know Li's age:"
   ]
  },
  {
   "cell_type": "code",
   "execution_count": 46,
   "metadata": {},
   "outputs": [
    {
     "data": {
      "text/plain": [
       "27"
      ]
     },
     "execution_count": 46,
     "metadata": {},
     "output_type": "execute_result"
    }
   ],
   "source": [
    "ages['Li']"
   ]
  },
  {
   "cell_type": "markdown",
   "metadata": {},
   "source": [
    "Similarly to lists, you can modify and assign new values:"
   ]
  },
  {
   "cell_type": "code",
   "execution_count": 47,
   "metadata": {},
   "outputs": [
    {
     "data": {
      "text/plain": [
       "{'Ana': 24, 'John': 20, 'Li': 27, 'Ivan': 40, 'Tali': 33, 'Juan': 73}"
      ]
     },
     "execution_count": 47,
     "metadata": {},
     "output_type": "execute_result"
    }
   ],
   "source": [
    "ages['Juan'] = 73\n",
    "ages"
   ]
  },
  {
   "cell_type": "markdown",
   "metadata": {},
   "source": [
    "Using this property, you can create entirely empty dictionaries and populate them later on:"
   ]
  },
  {
   "cell_type": "code",
   "execution_count": 48,
   "metadata": {},
   "outputs": [
    {
     "data": {
      "text/plain": [
       "{'key1': 1, 'key2': 2}"
      ]
     },
     "execution_count": 48,
     "metadata": {},
     "output_type": "execute_result"
    }
   ],
   "source": [
    "newdict = {}\n",
    "newdict['key1'] = 1\n",
    "newdict['key2'] = 2\n",
    "newdict"
   ]
  },
  {
   "cell_type": "markdown",
   "metadata": {},
   "source": [
    "### Functions"
   ]
  },
  {
   "cell_type": "markdown",
   "metadata": {},
   "source": [
    "The last part of this whirlwind tour on Python relates to functions, or more properly termed, methods. The motivation is that, so far, we have only seen how you can create Python code that, if you want to run again somewhere else, you need to copy and paste entirely. However, as we will see in more detail later in the course, one of the main reasons why you want to use Python for data analysis, instead of a point-and-click graphical interface like SPSS, for instance, is that you can easily reuse code and re-run analyses easily. Methods help us accomplish this by encapsulating snippets of code that perform a particular task and making them available to be called.\n",
    "\n",
    "We have already *used* methods here. When we call `np.arange`, we are using one of them. Now, we will see how to *create* a method of our own that performs the specific task we want it to do. For example, let us create a method to reproduce the first loop we created above:"
   ]
  },
  {
   "cell_type": "code",
   "execution_count": 49,
   "metadata": {},
   "outputs": [],
   "source": [
    "def run_loop():\n",
    "    for i in np.arange(10):\n",
    "        print(i)\n",
    "    return None"
   ]
  },
  {
   "cell_type": "markdown",
   "metadata": {},
   "source": [
    "Already with this method, there is a bunch of interesting things going on:\n",
    "\n",
    "* First, note how we define a bit of code is a method, as oposed to plain Python: we use `def` followed by the name of our function (we have chosen `run_loop`, but we anything could have done).\n",
    "* Second, we append `()` after the name, and finish the line with a colon (`:`). This is necessary and will allow us to specify requirements for the function (see below).\n",
    "* Third, realize that everything inside a function needs to be indented. This is a core property of Python and, although some people find it odd, it enhances readibility greatly.\n",
    "* Fourth, the piece of code to do the task we want, printing the sequence of numbers, is inside the function in the same way it was outside, only properly indented.\n",
    "* Fifth, we finish the method with a line starting by `return`. In this case, we follow it with `None`, but this will change as methods become more sophisticated. Essentially, this is the part of the method where you specify which elements you want it to return and save for later use.\n",
    "\n",
    "Once we have paid attention to these elements, we can see how the method can be *called* and hence the code inside it executed:"
   ]
  },
  {
   "cell_type": "code",
   "execution_count": 50,
   "metadata": {},
   "outputs": [
    {
     "name": "stdout",
     "output_type": "stream",
     "text": [
      "0\n",
      "1\n",
      "2\n",
      "3\n",
      "4\n",
      "5\n",
      "6\n",
      "7\n",
      "8\n",
      "9\n"
     ]
    }
   ],
   "source": [
    "run_loop()"
   ]
  },
  {
   "cell_type": "markdown",
   "metadata": {},
   "source": [
    "This is the same way that we called `np.arange` before. Note how we do not include the colon (`:`) but simply use the name of the method followed by the parenthesis."
   ]
  },
  {
   "cell_type": "markdown",
   "metadata": {},
   "source": [
    "This method only involves a limited degree of complexity: you do not require any input, and the code produces and output (the printout) but it is not saved anywhere. The rest of this section relaxes these two aspects to allow us to build more complex, but also more useful, methods.\n",
    "\n",
    "First, you can specify \"arguments\" to be passed that modify the behaviour of the method. Remember how we called `np.arange` with a number that implied the length of the sequence we wanted returned. We can do the same thing in our own function. The main aspect to pay attention to in this context is that the arguments need to be variables, not particular values. Let us see a modified example of our method:"
   ]
  },
  {
   "cell_type": "code",
   "execution_count": 51,
   "metadata": {},
   "outputs": [],
   "source": [
    "def run_loopX(x):\n",
    "    for i in np.arange(x):\n",
    "        print(i)\n",
    "    return None"
   ]
  },
  {
   "cell_type": "markdown",
   "metadata": {},
   "source": [
    "We have replaced the fixed length of the sequence (10) by a variable named `x` that allows us to specify *any value we want* when we call the method:"
   ]
  },
  {
   "cell_type": "code",
   "execution_count": 52,
   "metadata": {},
   "outputs": [
    {
     "name": "stdout",
     "output_type": "stream",
     "text": [
      "0\n",
      "1\n",
      "2\n"
     ]
    }
   ],
   "source": [
    "run_loopX(3)"
   ]
  },
  {
   "cell_type": "code",
   "execution_count": 53,
   "metadata": {},
   "outputs": [
    {
     "name": "stdout",
     "output_type": "stream",
     "text": [
      "0\n",
      "1\n"
     ]
    }
   ],
   "source": [
    "run_loopX(2)"
   ]
  },
  {
   "cell_type": "markdown",
   "metadata": {},
   "source": [
    "Another way you can build more flexibility into a method is by allowing it to return an output of the computation. In the previous examples, the function performs a computation (i.e. printing values on the screen), but it does not return any value. This is in contrast with, for example, `np.arange` which does return an output, the sequence of values:"
   ]
  },
  {
   "cell_type": "code",
   "execution_count": 54,
   "metadata": {},
   "outputs": [],
   "source": [
    "a = np.arange(10)"
   ]
  },
  {
   "cell_type": "code",
   "execution_count": 55,
   "metadata": {},
   "outputs": [
    {
     "data": {
      "text/plain": [
       "array([0, 1, 2, 3, 4, 5, 6, 7, 8, 9])"
      ]
     },
     "execution_count": 55,
     "metadata": {},
     "output_type": "execute_result"
    }
   ],
   "source": [
    "a"
   ]
  },
  {
   "cell_type": "markdown",
   "metadata": {},
   "source": [
    "Our function does not save anything:"
   ]
  },
  {
   "cell_type": "code",
   "execution_count": 56,
   "metadata": {},
   "outputs": [
    {
     "name": "stdout",
     "output_type": "stream",
     "text": [
      "0\n",
      "1\n",
      "2\n"
     ]
    }
   ],
   "source": [
    "b = run_loopX(3)"
   ]
  },
  {
   "cell_type": "code",
   "execution_count": 57,
   "metadata": {},
   "outputs": [],
   "source": [
    "b"
   ]
  },
  {
   "cell_type": "markdown",
   "metadata": {},
   "source": [
    "We can modify this using the last line of a method. For example, let us assume we want to return a sequence as long as the series of numbers we print on the screen. The method should be:"
   ]
  },
  {
   "cell_type": "code",
   "execution_count": 58,
   "metadata": {},
   "outputs": [],
   "source": [
    "def run_loopXout(x):\n",
    "    for i in np.arange(x):\n",
    "        print(i)\n",
    "    return np.arange(x)"
   ]
  },
  {
   "cell_type": "markdown",
   "metadata": {},
   "source": [
    "Note the main difference: instead of returning `None`, we are telling Python to return a sequence, which has the same length as the one used to specify the loop. Now, there is an alternative way of being more efficient in this method, and that is assigning the sequence to a new object and using it when necessary later on. The results are exactly the same, but there are less computations performed and, more critically, we minimize the chances of making mistakes."
   ]
  },
  {
   "cell_type": "code",
   "execution_count": 59,
   "metadata": {},
   "outputs": [],
   "source": [
    "def run_loopXout(x):\n",
    "    seq = np.arange(x)\n",
    "    for i in seq:\n",
    "        print(i)\n",
    "    return seq"
   ]
  },
  {
   "cell_type": "markdown",
   "metadata": {},
   "source": [
    "Either of these two new versions of the method return an output:"
   ]
  },
  {
   "cell_type": "code",
   "execution_count": 60,
   "metadata": {},
   "outputs": [
    {
     "name": "stdout",
     "output_type": "stream",
     "text": [
      "0\n",
      "1\n",
      "2\n",
      "0\n",
      "1\n",
      "2\n"
     ]
    }
   ],
   "source": [
    "a = run_loopX(3)\n",
    "b = run_loopXout(3)"
   ]
  },
  {
   "cell_type": "code",
   "execution_count": 61,
   "metadata": {},
   "outputs": [],
   "source": [
    "a"
   ]
  },
  {
   "cell_type": "code",
   "execution_count": 62,
   "metadata": {},
   "outputs": [
    {
     "data": {
      "text/plain": [
       "array([0, 1, 2])"
      ]
     },
     "execution_count": 62,
     "metadata": {},
     "output_type": "execute_result"
    }
   ],
   "source": [
    "b"
   ]
  },
  {
   "cell_type": "markdown",
   "metadata": {},
   "source": [
    "The advantage of methods, as oposed to straight code, is that they force us to think in a modular way, helping us identify exactly what it needs to be done, in what order, and what it is required. Encapsulating these atomic bits of functionality in methods allows us to write things once and flexibly use them everywhere, saving us time (and headaches) in the long run."
   ]
  },
  {
   "cell_type": "markdown",
   "metadata": {},
   "source": [
    "A final note on functions. It is important that, whenever you create a function, you include some documentation about what it expects, what it does, and what it returns. Although there are many ways of doing this, the typical convention is as follows:"
   ]
  },
  {
   "cell_type": "code",
   "execution_count": 63,
   "metadata": {},
   "outputs": [],
   "source": [
    "def run_loopXout(x):\n",
    "    \"\"\"\n",
    "    Print out the values of a sequence of certain length\n",
    "    ...\n",
    "    \n",
    "    Arguments\n",
    "    ---------\n",
    "    x     : int\n",
    "            Length of the sequence to be printed out\n",
    "    \n",
    "    Returns\n",
    "    -------\n",
    "    seq   : np.array\n",
    "            Sequence of values printed out\n",
    "    \"\"\"\n",
    "    seq = np.arange(x)\n",
    "    for i in seq:\n",
    "        print(i)\n",
    "    return seq"
   ]
  },
  {
   "cell_type": "markdown",
   "metadata": {},
   "source": [
    "Documentation, as any string, are highlighted in red on a notebook. Let us have a look at the structure and components of a well-made documentation (also called \"docstring\"):\n",
    "\n",
    "* It is encapsulated between triple commas (`\"\"\"`).\n",
    "* Begins with a short description of what the method does. The shorter the better, the more concise, the even better.\n",
    "* There is a section called \"Arguments\" that lists the elements that the function expects. \n",
    "* Each argument is then listed, followed by its type. In this case it is an object `x` that, as we are told, needs to be an integer.\n",
    "* The arguments are followed by another section that specifies what the function returns, and of what type the output is.\n",
    "\n",
    "Documentation in this way is very useful to remember what a function does, but also to force yourself to write clearer code. A bonus is that, if you include documentation in this way, it can be checked with the standard `help` or `?` systems reviewed above:"
   ]
  },
  {
   "cell_type": "code",
   "execution_count": 64,
   "metadata": {},
   "outputs": [
    {
     "data": {
      "text/plain": [
       "\u001b[0;31mSignature:\u001b[0m \u001b[0mrun_loopXout\u001b[0m\u001b[0;34m(\u001b[0m\u001b[0mx\u001b[0m\u001b[0;34m)\u001b[0m\u001b[0;34m\u001b[0m\u001b[0;34m\u001b[0m\u001b[0m\n",
       "\u001b[0;31mDocstring:\u001b[0m\n",
       "Print out the values of a sequence of certain length\n",
       "...\n",
       "\n",
       "Arguments\n",
       "---------\n",
       "x     : int\n",
       "        Length of the sequence to be printed out\n",
       "\n",
       "Returns\n",
       "-------\n",
       "seq   : np.array\n",
       "        Sequence of values printed out\n",
       "\u001b[0;31mFile:\u001b[0m      ~/host/content/labs/<ipython-input-63-5ed12024ff6b>\n",
       "\u001b[0;31mType:\u001b[0m      function\n"
      ]
     },
     "metadata": {},
     "output_type": "display_data"
    }
   ],
   "source": [
    "run_loopXout?"
   ]
  },
  {
   "cell_type": "code",
   "execution_count": 65,
   "metadata": {},
   "outputs": [
    {
     "name": "stdout",
     "output_type": "stream",
     "text": [
      "Help on function run_loopXout in module __main__:\n",
      "\n",
      "run_loopXout(x)\n",
      "    Print out the values of a sequence of certain length\n",
      "    ...\n",
      "    \n",
      "    Arguments\n",
      "    ---------\n",
      "    x     : int\n",
      "            Length of the sequence to be printed out\n",
      "    \n",
      "    Returns\n",
      "    -------\n",
      "    seq   : np.array\n",
      "            Sequence of values printed out\n",
      "\n"
     ]
    }
   ],
   "source": [
    "help(run_loopXout)"
   ]
  },
  {
   "cell_type": "markdown",
   "metadata": {},
   "source": [
    "## Javascript\n",
    "[JavaScript](https://developer.mozilla.org/en-US/docs/Web/JavaScript) is the world's most popular programming language, because of it is a fun and flexible programming language. It’s one of the core technologies of web development and can be used on both the front-end and the back-end. Do not confuse JavaScript with the Java programming language. Both \"Java\" and \"JavaScript\" are trademarks or registered trademarks of Oracle in the U.S. and other countries. However, the two programming languages have very different syntax, semantic, and use.\n",
    "\n",
    "<center><img src=\"https://www.tutorialrepublic.com/lib/images/javascript-illustration.png\" width=\"1000\"></center>\n",
    "\n",
    "The two most important cloud-plataform, Google Earth Engine and Sentinel Hub, uses [javascripts](https://javascript.info/intro)."
   ]
  },
  {
   "cell_type": "markdown",
   "metadata": {},
   "source": [
    "### Google Earth Engine (GEE)\n",
    "Google Earth Engine (GEE) is a cloud-based platform that enables large-scale scientific analysis\n",
    "and visualization of geospatial data sets. GEE was launched in 2010 by Google as a proprietary system.\n",
    "Currently, it is available to users as a free service for small and medium workloads, using a business\n",
    "model similar to the other cloud-based services of the company.\n",
    "This platform is built from a collection of technologies available on Google’s infrastructure,\n",
    "such as the large-scale computer cluster management system (Borg), the distributed databases (Bigtable\n",
    "and Spanner), the distributed file system (Colossus) and the parallel pipeline execution framework\n",
    "FlumeJava\n",
    "\n",
    "\n",
    "<center><img src=\"https://images.squarespace-cdn.com/content/v1/5344b442e4b058c292aa490c/1586648476995-V9L18VS4UZTI6LIBMA31/ke17ZwdGBToddI8pDm48kGLSsGHlYP8a-s1Bq8jyLU17gQa3H78H3Y0txjaiv_0fDoOvxcdMmMKkDsyUqMSsMWxHk725yiiHCCLfrh8O1z4YTzHvnKhyp6Da-NYroOW3ZGjoBKy3azqku80C789l0kh8CFOf_fg_fcBdg5WGu2PEoOcXRJZ14gZ3GKz5pSWfiZfyUPE659Grxueqy-rvwg/image-asset.png?format=1000w\" width=\"1000\"></center>\n",
    "\n",
    "Google Earth Engine allows users to run algorithms on georeferenced imagery and vectors stored on Google's infrastructure. The Google Earth Engine API provides a library of functions which may be applied to data for display and analysis. Earth Engine's public data catalog contains a large amount of publicly available imagery and vector datasets. Private assets can also be created in users' personal folders.\n",
    "\n",
    "GEE provides a data catalog that stores a large repository of geospatial data,\n",
    "including optical imagery of a variety of satellites and air systems, environmental variables, weather,\n",
    "and climate forecasts, land cover, socioeconomic and topographic datasets. Before being made available,\n",
    "these data sets are preprocessed, enabling efficient access and removing many barriers associated with\n",
    "data management.\n",
    "\n",
    "GEE uses four object types to represent data that can be manipulated by its API. The Image\n",
    "type represents raster data that can consist of one or more bands, which contain a name, data type,\n",
    "scale, and projection. A stack or a time series of Images is represented by the ImageCollection type.\n",
    "GEE represents vector data through the Feature type. This type is represented by a geometry (point,\n",
    "line, or polygon) and a list of attributes. The FeatureCollection type represents groups of related\n",
    "Features and provides functions to manipulate this data, such as sorting, filtering, and visualization. GEE only offers programming interfaces that support pixel-based processing. The result of a GEE processing can be viewed in the web IDE or saved in one of three company\n",
    "services—Drive, Cloud Storage or Assets. GEE uses a Tiles server to make data available to the web\n",
    "interface efficiently\n",
    "\n",
    "GEE provides a JavaScript API and a Python API for data management and analysis. For the\n",
    "JavaScript version, a web Integrated Development Environment [(IDE)](https://code.earthengine.google.com) is also provided, where the user has easy access to available data, applications and real-time\n",
    "visualization of the processing results. The Python API is available through a module and has a\n",
    "structure similar to its JavaScript version.\n",
    "\n",
    "<center><img src=\"http://unescowe.sharif.ir/wp-content/uploads/2020/03/GEE1-1.png\" width=\"500\"></center>"
   ]
  },
  {
   "cell_type": "markdown",
   "metadata": {},
   "source": [
    "#### The Code Editor \n",
    "The Code Editor is an interactive environment for developing Earth Engine applications. The center panel provides a JavaScript code editor. Above the editor are buttons to save the current script, run it, and clear the map. The Get Link button generates a unique URL for the script in the address bar. The map in the bottom panel contains the layers added by the script. At the top is a search box for datasets and places. The left panel contains code examples, your saved scripts, a searchable API reference and an asset manager for private data. The right panel has an inspector for querying the map, an output console, and a manager for long-running tasks. The help button help in the upper right contains links to this Guide and other resources for getting help. Learn more from the [Code Editor guide](https://developers.google.com/earth-engine/guides/playground).\n",
    "\n",
    "The Earth Engine (EE) Code Editor at [code.earthengine.google.com](https://code.earthengine.google.com/) is a web-based IDE for the Earth Engine JavaScript API. Code Editor features are designed to make developing complex geospatial workflows fast and easy. The Code Editor has the following elements (illustrated in Figure 1):\n",
    "\n",
    "- JavaScript code editor\n",
    "- Map display for visualizing geospatial datasets\n",
    "- API reference documentation (Docs tab)\n",
    "- Git-based Script Manager (Scripts tab)\n",
    "- Console output (Console tab)\n",
    "- Task Manager (Tasks tab) to handle long-running queries\n",
    "- Interactive map query (Inspector tab)\n",
    "- Search of the data archive or saved scripts\n",
    "- Geometry drawing tools\n",
    "\n",
    "The steps below demonstrate how to open Earth Engine and execute a custom script that displays an image. For best results, you may want to install the latest version of Chrome, Google’s web browser, available here.\n",
    "\n",
    "1. Open the Earth Engine Code Editor here: [code.earthengine.google.com](https://code.earthengine.google.com/). If you have not already, you will need to enable access by logging in using a registered Google account.\n",
    "2. Navigate to the Scripts tab located on the far left of the Code Editor. There you will find a collection of example scripts that access, display, and analyze Earth Engine data.\n",
    "3. Under “Image Collection,” select the “Filtered Composite” example. You will see a script appear in the center console. Press the Run button to execute the 4. script. The Filtered Composite example selects Landsat 7 images that intersect or are within the boundaries of Colorado and Utah. It then displays a true color composite of the selected images. The samples introduce you to commonly used methods, such as filter(), clip(), and Map.addLayer().\n",
    "\n",
    "The Code Editor has a variety of features to help you take advantage of the Earth Engine API. View example scripts or save your own scripts on the Scripts tab. Query objects placed on the map with the Inspector tab. Display and chart numeric results using the Google Visualization API. Share a unique URL to your script with collaborators and friends with the Get Link button. Scripts you develop in the Code Editor are sent to Google for processing and the generated map tiles and/or messages are sent back for display in the Map and/or Console tab. All you need to run the Code Editor is a web browser (use Google Chrome for best results) and an internet connection. The following sections describe elements of the Earth Engine Code Editor in more detail."
   ]
  },
  {
   "cell_type": "markdown",
   "metadata": {},
   "source": [
    "<center><img src=\"https://developers.google.com/earth-engine/images/Code_editor_diagram.png\"></center>"
   ]
  },
  {
   "cell_type": "markdown",
   "metadata": {},
   "source": [
    "#### The Earth Engine Python API\n",
    "The Earth Engine Python API is distributed as a conda-forge package at: https://anaconda.org/conda-forge/earthengine-api. It is installed with the conda install command. Before installing, however, make a conda environment specifically for Earth Engine. Installing the Earth Engine API to its own environment ensures that it and its dependent packages will not cause versioning issues with your base environment or any other environment you've previously set up and vice versa. For more information on managing conda environments, please visit this [site](https://docs.conda.io/projects/conda/en/latest/user-guide/concepts/environments.html).\n",
    "\n",
    "1. Activate your base conda environment, if it is not already.\n",
    "2. Make a conda virtual environment for the Earth Engine API.\n",
    "\n",
    "```\n",
    "conda create --name ee\n",
    "```\n",
    "3. Activate the conda ee environment.\n",
    "\n",
    "```\n",
    "conda activate ee\n",
    "```\n",
    "4. Install the API into the conda ee environment. Ensure that (ee) appears at the beginning of the command line, indicating you are working from the ee environment.\n",
    "\n",
    "```\n",
    "conda install -c conda-forge earthengine-api\n",
    "```\n",
    "Before using the Earth Engine API or earthengine command line tool, you must perform a one-time authentication that authorizes access to Earth Engine on behalf of your Google account. To authenticate, use the authenticate command from the earthengine command line tool.\n",
    "\n",
    "Within your conda ee environment run the following command and follow the resulting printed instructions. A URL will be provided that generates an authorization code upon agreement. Copy the authorization code and enter it as command line input.\n",
    "```\n",
    "earthengine authenticate\n",
    "```\n",
    "Upon entering the authorization code, an authorization token gets saved to a credentials file which can be found below. Subsequent use of the API's ee.Initialize() command and the earthengine command line tool will look to this file to authenticate. If you want to revoke authorization, simply delete the credentials file.\n",
    "```\n",
    "ee.Initialize()\n",
    "```\n",
    "Any time you want to use ee:\n",
    "```\n",
    "import ee\n",
    "\n",
    "# Initialize the Earth Engine module.\n",
    "ee.Initialize()\n",
    "\n",
    "# Print metadata for a DEM dataset.\n",
    "print(ee.Image('USGS/SRTMGL1_003').getInfo())\n",
    "```"
   ]
  },
  {
   "cell_type": "markdown",
   "metadata": {},
   "source": [
    "#### Sentinel Hub\n",
    "[Sentinel Hub](https://www.sentinel-hub.com/) (SH) is a platform developed by Sinergise that provides Sentinel data access and\n",
    "visualization services. This is a private platform with public access (https://www.sentinel-hub.com).\n",
    "Unlike Google Earth Engine, SH limits access to functionality in different payment plans. The free plan\n",
    "only allows viewing, selection and downloading of raw data. Paid access enables data access through\n",
    "OGC protocols and a specific API, data processing, mobile application data access, higher resource\n",
    "access limits, and technical support.\n",
    "\n",
    "<center><img src=\"https://www.sinergise.com/sites/default/files/styles/content_image/public/field/image/sent_thumbnail4.jpg?itok=ESzvtSJZ\"></center>\n",
    "\n",
    "[SH](https://www.sentinel-hub.com/explore/) provides two well-known remote sensing web applications ([EO Browser](https://apps.sentinel-hub.com/eo-browser/?zoom=10&lat=41.9&lng=12.5&themeId=DEFAULT-THEME) and [Sentinel Playground](https://apps.sentinel-hub.com/sentinel-playground/)). Sentinel Playground is a simple web viewer for rapid online viewing of the Sentinel-1, Sentinel-2, Landsat 8 and MODIS image archive; while EO Browser take advantage of powerful scripting functionality, explore 12 unique themes, create timelapses and download high resolution images, all for the complete archive of SH data.\n",
    "\n",
    "<center><img src=\"http://www.gisandbeers.com/wp-content/uploads/2017/08/Sentinel-Playground.jpg\"></center>\n",
    "\n",
    "EO Browser makes it possible to browse and compare full resolution images from all the data sources we provide. You simply go to your area of interest, select your desired time range and cloud coverage, and inspect the resulting data in the browser. Try out different visualizations or make your own, download high resolution images and create timelapses. Satelite imagery in EO Browser can be visualized based on user's desired configuration. There are already several visualizations with legends and descriptions prepared for you, such as true color, false color, NDVI, EVI, etc. By choosing Custom it is possible to choose any combination of bands and make a composite by simply drag and dropping the bands into the RGB channels. The index tool makes it possible to quickly create remote sensing indices and control the visualization, by drag and dropping bands into the equation. The custom script functionality is a powerful tool for visualizing satellite data. Using Javascript, you have full control over your visualization, allowing you to make computations, logical operators and conditions, data fusion, multitemporal scripting, etc. Additionally, you can modify your image by editing the strength of the three color channels, contrast (gain) and luminance (gamma) in the effects pannel.\n",
    "\n",
    "<center><img src=\"https://www.sentinel-hub.com/img/glacier.jpg\" width=\"800\"></center>\n",
    "\n",
    "Para obtener una imagen se utiliza el siguiente script:\n",
    "\n",
    "```\n",
    "//color verdadero mejorando brillo (*) y contraste (-), y trasnparencia como cuarto valor (0.5)\n",
    "return[(2.5*B04)-0.1,(2.5*B03)-0.1,(2.5*B02)-0.1,0.5]\n",
    "```\n",
    "Para calcular el NDVI y generar categorias, se puede utilizar:\n",
    "```\n",
    "//NDVI categorizado\n",
    "var NDVI = (B08-B04)/(B08+B04)\n",
    "\n",
    "if (NDVI<0.2){\n",
    "\treturn[1,1,1]\n",
    "}\n",
    "\n",
    "if (NDVI<0.4){\n",
    "\treturn[0,1,0]\n",
    "}\n",
    "\n",
    "if (NDVI<0.7){\n",
    "\treturn[0,0.5,0]\n",
    "}\n",
    "\n",
    "else{\n",
    "\treturn[0,0,0]\n",
    "}\n",
    "```"
   ]
  },
  {
   "cell_type": "markdown",
   "metadata": {},
   "source": [
    "### Additional sources\n",
    "\n",
    "- [The official NumPy documentation](https://docs.scipy.org/doc/numpy/reference/index.html)\n",
    "- [The official Matplotlib Gallery](https://matplotlib.org/gallery/index.html)\n",
    "- [The official Matplotlib Tutorials](https://matplotlib.org/tutorials/index.html)\n",
    "\n",
    "\n",
    "- Rougier, N.P., 2016. [From Python to NumPy](http://www.labri.fr/perso/nrougier/from-python-to-numpy/).\n",
    "- Oliphant, T.E., 2015. [A Guide to NumPy: 2nd Edition](https://www.amazon.com/Guide-NumPy-Travis-Oliphant-PhD/dp/151730007X). USA: Travis Oliphant, independent publishing.\n",
    "- Varoquaux, G., Gouillart, E., Vahtras, O., Haenel, V., Rougier, N.P., Gommers, R., Pedregosa, F., Jędrzejewski-Szmek, Z., Virtanen, P., Combelles, C. and Pinte, D., 2015. [SciPy Lecture Notes](http://www.scipy-lectures.org/intro/numpy/index.html)."
   ]
  }
 ],
 "metadata": {
  "kernelspec": {
   "display_name": "Python 3.9.0 64-bit",
   "language": "python",
   "name": "python3"
  },
  "language_info": {
   "codemirror_mode": {
    "name": "ipython",
    "version": 3
   },
   "file_extension": ".py",
   "mimetype": "text/x-python",
   "name": "python",
   "nbconvert_exporter": "python",
   "pygments_lexer": "ipython3",
   "version": "3.9.0"
  },
  "vscode": {
   "interpreter": {
    "hash": "81794d4967e6c3204c66dcd87b604927b115b27c00565d3d43f05ba2f3a2cb0d"
   }
  }
 },
 "nbformat": 4,
 "nbformat_minor": 4
}
